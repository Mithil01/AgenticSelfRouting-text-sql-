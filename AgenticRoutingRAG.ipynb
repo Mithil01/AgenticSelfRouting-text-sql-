{
  "nbformat": 4,
  "nbformat_minor": 0,
  "metadata": {
    "colab": {
      "provenance": []
    },
    "kernelspec": {
      "name": "python3",
      "display_name": "Python 3"
    },
    "language_info": {
      "name": "python"
    },
    "widgets": {
      "application/vnd.jupyter.widget-state+json": {
        "44b60322a5dc4ed9958abb675db8c7be": {
          "model_module": "@jupyter-widgets/controls",
          "model_name": "HBoxModel",
          "model_module_version": "1.5.0",
          "state": {
            "_dom_classes": [],
            "_model_module": "@jupyter-widgets/controls",
            "_model_module_version": "1.5.0",
            "_model_name": "HBoxModel",
            "_view_count": null,
            "_view_module": "@jupyter-widgets/controls",
            "_view_module_version": "1.5.0",
            "_view_name": "HBoxView",
            "box_style": "",
            "children": [
              "IPY_MODEL_d8bbc84fbd3b49c4b620e3514e2b75e5",
              "IPY_MODEL_062c4679303e4cbaadb632c219006895",
              "IPY_MODEL_3d15af145c374d6c9d9617b25cb83338"
            ],
            "layout": "IPY_MODEL_fc0112aea1654623ac464efa3f5244e4"
          }
        },
        "d8bbc84fbd3b49c4b620e3514e2b75e5": {
          "model_module": "@jupyter-widgets/controls",
          "model_name": "HTMLModel",
          "model_module_version": "1.5.0",
          "state": {
            "_dom_classes": [],
            "_model_module": "@jupyter-widgets/controls",
            "_model_module_version": "1.5.0",
            "_model_name": "HTMLModel",
            "_view_count": null,
            "_view_module": "@jupyter-widgets/controls",
            "_view_module_version": "1.5.0",
            "_view_name": "HTMLView",
            "description": "",
            "description_tooltip": null,
            "layout": "IPY_MODEL_0dbfe1ec46a74acabbc0650c5a5ad9ba",
            "placeholder": "​",
            "style": "IPY_MODEL_c5ffbca6a8704221bb85cfd2cf89301e",
            "value": "README.md: 100%"
          }
        },
        "062c4679303e4cbaadb632c219006895": {
          "model_module": "@jupyter-widgets/controls",
          "model_name": "FloatProgressModel",
          "model_module_version": "1.5.0",
          "state": {
            "_dom_classes": [],
            "_model_module": "@jupyter-widgets/controls",
            "_model_module_version": "1.5.0",
            "_model_name": "FloatProgressModel",
            "_view_count": null,
            "_view_module": "@jupyter-widgets/controls",
            "_view_module_version": "1.5.0",
            "_view_name": "ProgressView",
            "bar_style": "success",
            "description": "",
            "description_tooltip": null,
            "layout": "IPY_MODEL_439d2a0230184dacb88adc92bcc634e3",
            "max": 4843,
            "min": 0,
            "orientation": "horizontal",
            "style": "IPY_MODEL_3857412c265e44a4b04e997362b9b020",
            "value": 4843
          }
        },
        "3d15af145c374d6c9d9617b25cb83338": {
          "model_module": "@jupyter-widgets/controls",
          "model_name": "HTMLModel",
          "model_module_version": "1.5.0",
          "state": {
            "_dom_classes": [],
            "_model_module": "@jupyter-widgets/controls",
            "_model_module_version": "1.5.0",
            "_model_name": "HTMLModel",
            "_view_count": null,
            "_view_module": "@jupyter-widgets/controls",
            "_view_module_version": "1.5.0",
            "_view_name": "HTMLView",
            "description": "",
            "description_tooltip": null,
            "layout": "IPY_MODEL_7e72da5945ad49b1877beb495559b0f9",
            "placeholder": "​",
            "style": "IPY_MODEL_ed5030a4d38c4ca2bb9c1595ab822b5c",
            "value": " 4.84k/4.84k [00:00&lt;00:00, 218kB/s]"
          }
        },
        "fc0112aea1654623ac464efa3f5244e4": {
          "model_module": "@jupyter-widgets/base",
          "model_name": "LayoutModel",
          "model_module_version": "1.2.0",
          "state": {
            "_model_module": "@jupyter-widgets/base",
            "_model_module_version": "1.2.0",
            "_model_name": "LayoutModel",
            "_view_count": null,
            "_view_module": "@jupyter-widgets/base",
            "_view_module_version": "1.2.0",
            "_view_name": "LayoutView",
            "align_content": null,
            "align_items": null,
            "align_self": null,
            "border": null,
            "bottom": null,
            "display": null,
            "flex": null,
            "flex_flow": null,
            "grid_area": null,
            "grid_auto_columns": null,
            "grid_auto_flow": null,
            "grid_auto_rows": null,
            "grid_column": null,
            "grid_gap": null,
            "grid_row": null,
            "grid_template_areas": null,
            "grid_template_columns": null,
            "grid_template_rows": null,
            "height": null,
            "justify_content": null,
            "justify_items": null,
            "left": null,
            "margin": null,
            "max_height": null,
            "max_width": null,
            "min_height": null,
            "min_width": null,
            "object_fit": null,
            "object_position": null,
            "order": null,
            "overflow": null,
            "overflow_x": null,
            "overflow_y": null,
            "padding": null,
            "right": null,
            "top": null,
            "visibility": null,
            "width": null
          }
        },
        "0dbfe1ec46a74acabbc0650c5a5ad9ba": {
          "model_module": "@jupyter-widgets/base",
          "model_name": "LayoutModel",
          "model_module_version": "1.2.0",
          "state": {
            "_model_module": "@jupyter-widgets/base",
            "_model_module_version": "1.2.0",
            "_model_name": "LayoutModel",
            "_view_count": null,
            "_view_module": "@jupyter-widgets/base",
            "_view_module_version": "1.2.0",
            "_view_name": "LayoutView",
            "align_content": null,
            "align_items": null,
            "align_self": null,
            "border": null,
            "bottom": null,
            "display": null,
            "flex": null,
            "flex_flow": null,
            "grid_area": null,
            "grid_auto_columns": null,
            "grid_auto_flow": null,
            "grid_auto_rows": null,
            "grid_column": null,
            "grid_gap": null,
            "grid_row": null,
            "grid_template_areas": null,
            "grid_template_columns": null,
            "grid_template_rows": null,
            "height": null,
            "justify_content": null,
            "justify_items": null,
            "left": null,
            "margin": null,
            "max_height": null,
            "max_width": null,
            "min_height": null,
            "min_width": null,
            "object_fit": null,
            "object_position": null,
            "order": null,
            "overflow": null,
            "overflow_x": null,
            "overflow_y": null,
            "padding": null,
            "right": null,
            "top": null,
            "visibility": null,
            "width": null
          }
        },
        "c5ffbca6a8704221bb85cfd2cf89301e": {
          "model_module": "@jupyter-widgets/controls",
          "model_name": "DescriptionStyleModel",
          "model_module_version": "1.5.0",
          "state": {
            "_model_module": "@jupyter-widgets/controls",
            "_model_module_version": "1.5.0",
            "_model_name": "DescriptionStyleModel",
            "_view_count": null,
            "_view_module": "@jupyter-widgets/base",
            "_view_module_version": "1.2.0",
            "_view_name": "StyleView",
            "description_width": ""
          }
        },
        "439d2a0230184dacb88adc92bcc634e3": {
          "model_module": "@jupyter-widgets/base",
          "model_name": "LayoutModel",
          "model_module_version": "1.2.0",
          "state": {
            "_model_module": "@jupyter-widgets/base",
            "_model_module_version": "1.2.0",
            "_model_name": "LayoutModel",
            "_view_count": null,
            "_view_module": "@jupyter-widgets/base",
            "_view_module_version": "1.2.0",
            "_view_name": "LayoutView",
            "align_content": null,
            "align_items": null,
            "align_self": null,
            "border": null,
            "bottom": null,
            "display": null,
            "flex": null,
            "flex_flow": null,
            "grid_area": null,
            "grid_auto_columns": null,
            "grid_auto_flow": null,
            "grid_auto_rows": null,
            "grid_column": null,
            "grid_gap": null,
            "grid_row": null,
            "grid_template_areas": null,
            "grid_template_columns": null,
            "grid_template_rows": null,
            "height": null,
            "justify_content": null,
            "justify_items": null,
            "left": null,
            "margin": null,
            "max_height": null,
            "max_width": null,
            "min_height": null,
            "min_width": null,
            "object_fit": null,
            "object_position": null,
            "order": null,
            "overflow": null,
            "overflow_x": null,
            "overflow_y": null,
            "padding": null,
            "right": null,
            "top": null,
            "visibility": null,
            "width": null
          }
        },
        "3857412c265e44a4b04e997362b9b020": {
          "model_module": "@jupyter-widgets/controls",
          "model_name": "ProgressStyleModel",
          "model_module_version": "1.5.0",
          "state": {
            "_model_module": "@jupyter-widgets/controls",
            "_model_module_version": "1.5.0",
            "_model_name": "ProgressStyleModel",
            "_view_count": null,
            "_view_module": "@jupyter-widgets/base",
            "_view_module_version": "1.2.0",
            "_view_name": "StyleView",
            "bar_color": null,
            "description_width": ""
          }
        },
        "7e72da5945ad49b1877beb495559b0f9": {
          "model_module": "@jupyter-widgets/base",
          "model_name": "LayoutModel",
          "model_module_version": "1.2.0",
          "state": {
            "_model_module": "@jupyter-widgets/base",
            "_model_module_version": "1.2.0",
            "_model_name": "LayoutModel",
            "_view_count": null,
            "_view_module": "@jupyter-widgets/base",
            "_view_module_version": "1.2.0",
            "_view_name": "LayoutView",
            "align_content": null,
            "align_items": null,
            "align_self": null,
            "border": null,
            "bottom": null,
            "display": null,
            "flex": null,
            "flex_flow": null,
            "grid_area": null,
            "grid_auto_columns": null,
            "grid_auto_flow": null,
            "grid_auto_rows": null,
            "grid_column": null,
            "grid_gap": null,
            "grid_row": null,
            "grid_template_areas": null,
            "grid_template_columns": null,
            "grid_template_rows": null,
            "height": null,
            "justify_content": null,
            "justify_items": null,
            "left": null,
            "margin": null,
            "max_height": null,
            "max_width": null,
            "min_height": null,
            "min_width": null,
            "object_fit": null,
            "object_position": null,
            "order": null,
            "overflow": null,
            "overflow_x": null,
            "overflow_y": null,
            "padding": null,
            "right": null,
            "top": null,
            "visibility": null,
            "width": null
          }
        },
        "ed5030a4d38c4ca2bb9c1595ab822b5c": {
          "model_module": "@jupyter-widgets/controls",
          "model_name": "DescriptionStyleModel",
          "model_module_version": "1.5.0",
          "state": {
            "_model_module": "@jupyter-widgets/controls",
            "_model_module_version": "1.5.0",
            "_model_name": "DescriptionStyleModel",
            "_view_count": null,
            "_view_module": "@jupyter-widgets/base",
            "_view_module_version": "1.2.0",
            "_view_name": "StyleView",
            "description_width": ""
          }
        }
      }
    }
  },
  "cells": [
    {
      "cell_type": "markdown",
      "source": [
        "# Designing Agentic system Combining RAG and Text-to-SQL in a Single Query Interface\n",
        "\n",
        "- Helps convert natural language text into syntactically correct SQL statement based on defined DB schema and subsequently fetches Information post sql-query execution.\n",
        "- Can fetch knowledge from RAG with Airbnb listings knowledge base stored in ChromaDB.\n",
        "- Router Agent efficciently routes to text-to-sql engine or RAG knowledge base based on user input.\n"
      ],
      "metadata": {
        "id": "bkFMviEKQAF6"
      }
    },
    {
      "cell_type": "markdown",
      "source": [
        "![image.png](data:image/png;base64,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)"
      ],
      "metadata": {
        "id": "JtxafDcxPatw"
      }
    },
    {
      "cell_type": "code",
      "execution_count": 1,
      "metadata": {
        "colab": {
          "base_uri": "https://localhost:8080/"
        },
        "id": "FHDBnJthIzUk",
        "outputId": "d2af6a16-42f1-409a-b891-1275115b3754"
      },
      "outputs": [
        {
          "output_type": "stream",
          "name": "stdout",
          "text": [
            "\u001b[2K   \u001b[90m━━━━━━━━━━━━━━━━━━━━━━━━━━━━━━━━━━━━━━━━\u001b[0m \u001b[32m1.6/1.6 MB\u001b[0m \u001b[31m13.8 MB/s\u001b[0m eta \u001b[36m0:00:00\u001b[0m\n",
            "\u001b[2K   \u001b[90m━━━━━━━━━━━━━━━━━━━━━━━━━━━━━━━━━━━━━━━━\u001b[0m \u001b[32m1.2/1.2 MB\u001b[0m \u001b[31m12.2 MB/s\u001b[0m eta \u001b[36m0:00:00\u001b[0m\n",
            "\u001b[2K   \u001b[90m━━━━━━━━━━━━━━━━━━━━━━━━━━━━━━━━━━━━━━━━\u001b[0m \u001b[32m250.6/250.6 kB\u001b[0m \u001b[31m10.1 MB/s\u001b[0m eta \u001b[36m0:00:00\u001b[0m\n",
            "\u001b[2K   \u001b[90m━━━━━━━━━━━━━━━━━━━━━━━━━━━━━━━━━━━━━━━━\u001b[0m \u001b[32m164.9/164.9 kB\u001b[0m \u001b[31m5.9 MB/s\u001b[0m eta \u001b[36m0:00:00\u001b[0m\n",
            "\u001b[2K   \u001b[90m━━━━━━━━━━━━━━━━━━━━━━━━━━━━━━━━━━━━━━━━\u001b[0m \u001b[32m50.9/50.9 kB\u001b[0m \u001b[31m1.6 MB/s\u001b[0m eta \u001b[36m0:00:00\u001b[0m\n",
            "\u001b[2K   \u001b[90m━━━━━━━━━━━━━━━━━━━━━━━━━━━━━━━━━━━━━━━━\u001b[0m \u001b[32m298.7/298.7 kB\u001b[0m \u001b[31m9.3 MB/s\u001b[0m eta \u001b[36m0:00:00\u001b[0m\n",
            "\u001b[?25h"
          ]
        }
      ],
      "source": [
        "!pip install --quiet -U llama-index OpenAI llama-index-core nltk"
      ]
    },
    {
      "cell_type": "code",
      "source": [
        "!pip install langchain langchain_openai datasets"
      ],
      "metadata": {
        "colab": {
          "base_uri": "https://localhost:8080/"
        },
        "id": "pPQNR1zLkvIG",
        "outputId": "3e85ba04-9ed4-4222-d47e-9370bf6a4154"
      },
      "execution_count": 5,
      "outputs": [
        {
          "output_type": "stream",
          "name": "stdout",
          "text": [
            "Requirement already satisfied: langchain in /usr/local/lib/python3.11/dist-packages (0.3.17)\n",
            "Collecting langchain_openai\n",
            "  Downloading langchain_openai-0.3.4-py3-none-any.whl.metadata (2.3 kB)\n",
            "Requirement already satisfied: PyYAML>=5.3 in /usr/local/lib/python3.11/dist-packages (from langchain) (6.0.2)\n",
            "Requirement already satisfied: SQLAlchemy<3,>=1.4 in /usr/local/lib/python3.11/dist-packages (from langchain) (2.0.37)\n",
            "Requirement already satisfied: aiohttp<4.0.0,>=3.8.3 in /usr/local/lib/python3.11/dist-packages (from langchain) (3.11.11)\n",
            "Requirement already satisfied: langchain-core<0.4.0,>=0.3.33 in /usr/local/lib/python3.11/dist-packages (from langchain) (0.3.33)\n",
            "Requirement already satisfied: langchain-text-splitters<0.4.0,>=0.3.3 in /usr/local/lib/python3.11/dist-packages (from langchain) (0.3.5)\n",
            "Requirement already satisfied: langsmith<0.4,>=0.1.17 in /usr/local/lib/python3.11/dist-packages (from langchain) (0.3.5)\n",
            "Requirement already satisfied: numpy<2,>=1.22.4 in /usr/local/lib/python3.11/dist-packages (from langchain) (1.26.4)\n",
            "Requirement already satisfied: pydantic<3.0.0,>=2.7.4 in /usr/local/lib/python3.11/dist-packages (from langchain) (2.10.6)\n",
            "Requirement already satisfied: requests<3,>=2 in /usr/local/lib/python3.11/dist-packages (from langchain) (2.32.3)\n",
            "Requirement already satisfied: tenacity!=8.4.0,<10,>=8.1.0 in /usr/local/lib/python3.11/dist-packages (from langchain) (9.0.0)\n",
            "Collecting langchain-core<0.4.0,>=0.3.33 (from langchain)\n",
            "  Downloading langchain_core-0.3.34-py3-none-any.whl.metadata (5.9 kB)\n",
            "Requirement already satisfied: openai<2.0.0,>=1.58.1 in /usr/local/lib/python3.11/dist-packages (from langchain_openai) (1.61.1)\n",
            "Requirement already satisfied: tiktoken<1,>=0.7 in /usr/local/lib/python3.11/dist-packages (from langchain_openai) (0.8.0)\n",
            "Requirement already satisfied: aiohappyeyeballs>=2.3.0 in /usr/local/lib/python3.11/dist-packages (from aiohttp<4.0.0,>=3.8.3->langchain) (2.4.4)\n",
            "Requirement already satisfied: aiosignal>=1.1.2 in /usr/local/lib/python3.11/dist-packages (from aiohttp<4.0.0,>=3.8.3->langchain) (1.3.2)\n",
            "Requirement already satisfied: attrs>=17.3.0 in /usr/local/lib/python3.11/dist-packages (from aiohttp<4.0.0,>=3.8.3->langchain) (25.1.0)\n",
            "Requirement already satisfied: frozenlist>=1.1.1 in /usr/local/lib/python3.11/dist-packages (from aiohttp<4.0.0,>=3.8.3->langchain) (1.5.0)\n",
            "Requirement already satisfied: multidict<7.0,>=4.5 in /usr/local/lib/python3.11/dist-packages (from aiohttp<4.0.0,>=3.8.3->langchain) (6.1.0)\n",
            "Requirement already satisfied: propcache>=0.2.0 in /usr/local/lib/python3.11/dist-packages (from aiohttp<4.0.0,>=3.8.3->langchain) (0.2.1)\n",
            "Requirement already satisfied: yarl<2.0,>=1.17.0 in /usr/local/lib/python3.11/dist-packages (from aiohttp<4.0.0,>=3.8.3->langchain) (1.18.3)\n",
            "Requirement already satisfied: jsonpatch<2.0,>=1.33 in /usr/local/lib/python3.11/dist-packages (from langchain-core<0.4.0,>=0.3.33->langchain) (1.33)\n",
            "Requirement already satisfied: packaging<25,>=23.2 in /usr/local/lib/python3.11/dist-packages (from langchain-core<0.4.0,>=0.3.33->langchain) (24.2)\n",
            "Requirement already satisfied: typing-extensions>=4.7 in /usr/local/lib/python3.11/dist-packages (from langchain-core<0.4.0,>=0.3.33->langchain) (4.12.2)\n",
            "Requirement already satisfied: httpx<1,>=0.23.0 in /usr/local/lib/python3.11/dist-packages (from langsmith<0.4,>=0.1.17->langchain) (0.28.1)\n",
            "Requirement already satisfied: orjson<4.0.0,>=3.9.14 in /usr/local/lib/python3.11/dist-packages (from langsmith<0.4,>=0.1.17->langchain) (3.10.15)\n",
            "Requirement already satisfied: requests-toolbelt<2.0.0,>=1.0.0 in /usr/local/lib/python3.11/dist-packages (from langsmith<0.4,>=0.1.17->langchain) (1.0.0)\n",
            "Requirement already satisfied: zstandard<0.24.0,>=0.23.0 in /usr/local/lib/python3.11/dist-packages (from langsmith<0.4,>=0.1.17->langchain) (0.23.0)\n",
            "Requirement already satisfied: anyio<5,>=3.5.0 in /usr/local/lib/python3.11/dist-packages (from openai<2.0.0,>=1.58.1->langchain_openai) (3.7.1)\n",
            "Requirement already satisfied: distro<2,>=1.7.0 in /usr/local/lib/python3.11/dist-packages (from openai<2.0.0,>=1.58.1->langchain_openai) (1.9.0)\n",
            "Requirement already satisfied: jiter<1,>=0.4.0 in /usr/local/lib/python3.11/dist-packages (from openai<2.0.0,>=1.58.1->langchain_openai) (0.8.2)\n",
            "Requirement already satisfied: sniffio in /usr/local/lib/python3.11/dist-packages (from openai<2.0.0,>=1.58.1->langchain_openai) (1.3.1)\n",
            "Requirement already satisfied: tqdm>4 in /usr/local/lib/python3.11/dist-packages (from openai<2.0.0,>=1.58.1->langchain_openai) (4.67.1)\n",
            "Requirement already satisfied: annotated-types>=0.6.0 in /usr/local/lib/python3.11/dist-packages (from pydantic<3.0.0,>=2.7.4->langchain) (0.7.0)\n",
            "Requirement already satisfied: pydantic-core==2.27.2 in /usr/local/lib/python3.11/dist-packages (from pydantic<3.0.0,>=2.7.4->langchain) (2.27.2)\n",
            "Requirement already satisfied: charset-normalizer<4,>=2 in /usr/local/lib/python3.11/dist-packages (from requests<3,>=2->langchain) (3.4.1)\n",
            "Requirement already satisfied: idna<4,>=2.5 in /usr/local/lib/python3.11/dist-packages (from requests<3,>=2->langchain) (3.10)\n",
            "Requirement already satisfied: urllib3<3,>=1.21.1 in /usr/local/lib/python3.11/dist-packages (from requests<3,>=2->langchain) (2.3.0)\n",
            "Requirement already satisfied: certifi>=2017.4.17 in /usr/local/lib/python3.11/dist-packages (from requests<3,>=2->langchain) (2024.12.14)\n",
            "Requirement already satisfied: greenlet!=0.4.17 in /usr/local/lib/python3.11/dist-packages (from SQLAlchemy<3,>=1.4->langchain) (3.1.1)\n",
            "Requirement already satisfied: regex>=2022.1.18 in /usr/local/lib/python3.11/dist-packages (from tiktoken<1,>=0.7->langchain_openai) (2024.11.6)\n",
            "Requirement already satisfied: httpcore==1.* in /usr/local/lib/python3.11/dist-packages (from httpx<1,>=0.23.0->langsmith<0.4,>=0.1.17->langchain) (1.0.7)\n",
            "Requirement already satisfied: h11<0.15,>=0.13 in /usr/local/lib/python3.11/dist-packages (from httpcore==1.*->httpx<1,>=0.23.0->langsmith<0.4,>=0.1.17->langchain) (0.14.0)\n",
            "Requirement already satisfied: jsonpointer>=1.9 in /usr/local/lib/python3.11/dist-packages (from jsonpatch<2.0,>=1.33->langchain-core<0.4.0,>=0.3.33->langchain) (3.0.0)\n",
            "Downloading langchain_openai-0.3.4-py3-none-any.whl (54 kB)\n",
            "\u001b[2K   \u001b[90m━━━━━━━━━━━━━━━━━━━━━━━━━━━━━━━━━━━━━━━━\u001b[0m \u001b[32m54.7/54.7 kB\u001b[0m \u001b[31m1.8 MB/s\u001b[0m eta \u001b[36m0:00:00\u001b[0m\n",
            "\u001b[?25hDownloading langchain_core-0.3.34-py3-none-any.whl (412 kB)\n",
            "\u001b[2K   \u001b[90m━━━━━━━━━━━━━━━━━━━━━━━━━━━━━━━━━━━━━━━━\u001b[0m \u001b[32m413.0/413.0 kB\u001b[0m \u001b[31m9.7 MB/s\u001b[0m eta \u001b[36m0:00:00\u001b[0m\n",
            "\u001b[?25hInstalling collected packages: langchain-core, langchain_openai\n",
            "  Attempting uninstall: langchain-core\n",
            "    Found existing installation: langchain-core 0.3.33\n",
            "    Uninstalling langchain-core-0.3.33:\n",
            "      Successfully uninstalled langchain-core-0.3.33\n",
            "Successfully installed langchain-core-0.3.34 langchain_openai-0.3.4\n"
          ]
        }
      ]
    },
    {
      "cell_type": "markdown",
      "source": [
        "### Set OPENAI_API_KEY\n"
      ],
      "metadata": {
        "id": "s-w_PvYh9vNY"
      }
    },
    {
      "cell_type": "code",
      "source": [
        "import os\n",
        "from google.colab import userdata\n",
        "os.environ[\"OPENAI_API_KEY\"] = userdata.get('OPENAI_API_KEY')"
      ],
      "metadata": {
        "id": "8dt9a0m63wka"
      },
      "execution_count": 3,
      "outputs": []
    },
    {
      "cell_type": "code",
      "source": [
        "import os\n",
        "import json\n",
        "from sqlalchemy import create_engine\n",
        "from llama_index.core.query_engine import NLSQLTableQueryEngine\n",
        "import pandas as pd\n",
        "from llama_index.core import SQLDatabase\n",
        "from llama_index.core import Document\n",
        "from llama_index.core.schema import MetadataMode\n",
        "from langchain_core.prompts import ChatPromptTemplate\n",
        "from langchain_core.output_parsers import JsonOutputParser\n",
        "from langchain_openai import ChatOpenAI\n",
        "from langchain_core.output_parsers import NumberedListOutputParser\n",
        "import os"
      ],
      "metadata": {
        "id": "bwpqHyf5tWsI"
      },
      "execution_count": 20,
      "outputs": []
    },
    {
      "cell_type": "code",
      "source": [
        "\n",
        "df = pd.read_csv(\"/content/Copy of OpenSecrets.org _ FTX_Alameda Research Contributions - Direct Contributions & JFC Distributions.csv\")\n",
        "df['date'] = pd.to_datetime(df['date'])\n",
        "df['amount'] = df['amount'].str.replace('$', '').str.replace(',', '').astype(float)\n",
        "\n",
        "#Extract year\n",
        "df['year'] = df['date'].dt.year\n",
        "df.head()"
      ],
      "metadata": {
        "colab": {
          "base_uri": "https://localhost:8080/",
          "height": 377
        },
        "id": "zft0USdUJIfc",
        "outputId": "a6c25006-79eb-4393-f8be-68a5efe01264"
      },
      "execution_count": 7,
      "outputs": [
        {
          "output_type": "execute_result",
          "data": {
            "text/plain": [
              "   cycle State/Federal    contribid            contrib        City State  \\\n",
              "0   2022         State   1920715992    KAUFMAN, WILLIE    NEW YORK    NY   \n",
              "1   2022       Federal  f1000218669  BANKMAN, ALAN JOE    STANFORD    CA   \n",
              "2   2020       Federal  j1001936195       WETJEN, MARK  WASHINGTON    DC   \n",
              "3   2020       Federal  j1001936195       WETJEN, MARK  WASHINGTON    DC   \n",
              "4   2022       Federal  j1001936195       WETJEN, MARK  WASHINGTON    DC   \n",
              "\n",
              "     Zip                     Fecoccemp                       orgname ultorg  \\\n",
              "0  10005                           NaN              Alameda Research    NaN   \n",
              "1  94305           STANFORD AND FTX US                        FTX.US    NaN   \n",
              "2  20017  MIAMI INTERNATIONAL HOLDINGS  Miami International Holdings    NaN   \n",
              "3  20017  MIAMI INTERNATIONAL HOLDINGS  Miami International Holdings    NaN   \n",
              "4  20017                           FTX                        FTX.US    NaN   \n",
              "\n",
              "   ...  amount    recipid         recipient party recipcode type  \\\n",
              "0  ...   400.0   55587498     DICKSON, RUBY     D        DO   15   \n",
              "1  ...  1000.0  N00051422    Bond, Michelle     R        RL  15E   \n",
              "2  ...  5600.0  N00000699  Menendez, Robert     D        DI  15E   \n",
              "3  ...  4000.0  N00000699  Menendez, Robert     D        DI  15E   \n",
              "4  ...  2900.0  N00004118  Stabenow, Debbie     D        DI  15J   \n",
              "\n",
              "            fectransid   pg     cmteid  year  \n",
              "0                  NaN  NaN        NaN  2022  \n",
              "1  4082520221566200368    P  C00816561  2022  \n",
              "2           T217948909  NaN  C00264564  2020  \n",
              "3           T200003382  NaN  C00264564  2020  \n",
              "4  4042820221473189023    P  C00344473  2022  \n",
              "\n",
              "[5 rows x 21 columns]"
            ],
            "text/html": [
              "\n",
              "  <div id=\"df-2f4c0be1-5b42-4647-be53-fb81eae58856\" class=\"colab-df-container\">\n",
              "    <div>\n",
              "<style scoped>\n",
              "    .dataframe tbody tr th:only-of-type {\n",
              "        vertical-align: middle;\n",
              "    }\n",
              "\n",
              "    .dataframe tbody tr th {\n",
              "        vertical-align: top;\n",
              "    }\n",
              "\n",
              "    .dataframe thead th {\n",
              "        text-align: right;\n",
              "    }\n",
              "</style>\n",
              "<table border=\"1\" class=\"dataframe\">\n",
              "  <thead>\n",
              "    <tr style=\"text-align: right;\">\n",
              "      <th></th>\n",
              "      <th>cycle</th>\n",
              "      <th>State/Federal</th>\n",
              "      <th>contribid</th>\n",
              "      <th>contrib</th>\n",
              "      <th>City</th>\n",
              "      <th>State</th>\n",
              "      <th>Zip</th>\n",
              "      <th>Fecoccemp</th>\n",
              "      <th>orgname</th>\n",
              "      <th>ultorg</th>\n",
              "      <th>...</th>\n",
              "      <th>amount</th>\n",
              "      <th>recipid</th>\n",
              "      <th>recipient</th>\n",
              "      <th>party</th>\n",
              "      <th>recipcode</th>\n",
              "      <th>type</th>\n",
              "      <th>fectransid</th>\n",
              "      <th>pg</th>\n",
              "      <th>cmteid</th>\n",
              "      <th>year</th>\n",
              "    </tr>\n",
              "  </thead>\n",
              "  <tbody>\n",
              "    <tr>\n",
              "      <th>0</th>\n",
              "      <td>2022</td>\n",
              "      <td>State</td>\n",
              "      <td>1920715992</td>\n",
              "      <td>KAUFMAN, WILLIE</td>\n",
              "      <td>NEW YORK</td>\n",
              "      <td>NY</td>\n",
              "      <td>10005</td>\n",
              "      <td>NaN</td>\n",
              "      <td>Alameda Research</td>\n",
              "      <td>NaN</td>\n",
              "      <td>...</td>\n",
              "      <td>400.0</td>\n",
              "      <td>55587498</td>\n",
              "      <td>DICKSON, RUBY</td>\n",
              "      <td>D</td>\n",
              "      <td>DO</td>\n",
              "      <td>15</td>\n",
              "      <td>NaN</td>\n",
              "      <td>NaN</td>\n",
              "      <td>NaN</td>\n",
              "      <td>2022</td>\n",
              "    </tr>\n",
              "    <tr>\n",
              "      <th>1</th>\n",
              "      <td>2022</td>\n",
              "      <td>Federal</td>\n",
              "      <td>f1000218669</td>\n",
              "      <td>BANKMAN, ALAN JOE</td>\n",
              "      <td>STANFORD</td>\n",
              "      <td>CA</td>\n",
              "      <td>94305</td>\n",
              "      <td>STANFORD AND FTX US</td>\n",
              "      <td>FTX.US</td>\n",
              "      <td>NaN</td>\n",
              "      <td>...</td>\n",
              "      <td>1000.0</td>\n",
              "      <td>N00051422</td>\n",
              "      <td>Bond, Michelle</td>\n",
              "      <td>R</td>\n",
              "      <td>RL</td>\n",
              "      <td>15E</td>\n",
              "      <td>4082520221566200368</td>\n",
              "      <td>P</td>\n",
              "      <td>C00816561</td>\n",
              "      <td>2022</td>\n",
              "    </tr>\n",
              "    <tr>\n",
              "      <th>2</th>\n",
              "      <td>2020</td>\n",
              "      <td>Federal</td>\n",
              "      <td>j1001936195</td>\n",
              "      <td>WETJEN, MARK</td>\n",
              "      <td>WASHINGTON</td>\n",
              "      <td>DC</td>\n",
              "      <td>20017</td>\n",
              "      <td>MIAMI INTERNATIONAL HOLDINGS</td>\n",
              "      <td>Miami International Holdings</td>\n",
              "      <td>NaN</td>\n",
              "      <td>...</td>\n",
              "      <td>5600.0</td>\n",
              "      <td>N00000699</td>\n",
              "      <td>Menendez, Robert</td>\n",
              "      <td>D</td>\n",
              "      <td>DI</td>\n",
              "      <td>15E</td>\n",
              "      <td>T217948909</td>\n",
              "      <td>NaN</td>\n",
              "      <td>C00264564</td>\n",
              "      <td>2020</td>\n",
              "    </tr>\n",
              "    <tr>\n",
              "      <th>3</th>\n",
              "      <td>2020</td>\n",
              "      <td>Federal</td>\n",
              "      <td>j1001936195</td>\n",
              "      <td>WETJEN, MARK</td>\n",
              "      <td>WASHINGTON</td>\n",
              "      <td>DC</td>\n",
              "      <td>20017</td>\n",
              "      <td>MIAMI INTERNATIONAL HOLDINGS</td>\n",
              "      <td>Miami International Holdings</td>\n",
              "      <td>NaN</td>\n",
              "      <td>...</td>\n",
              "      <td>4000.0</td>\n",
              "      <td>N00000699</td>\n",
              "      <td>Menendez, Robert</td>\n",
              "      <td>D</td>\n",
              "      <td>DI</td>\n",
              "      <td>15E</td>\n",
              "      <td>T200003382</td>\n",
              "      <td>NaN</td>\n",
              "      <td>C00264564</td>\n",
              "      <td>2020</td>\n",
              "    </tr>\n",
              "    <tr>\n",
              "      <th>4</th>\n",
              "      <td>2022</td>\n",
              "      <td>Federal</td>\n",
              "      <td>j1001936195</td>\n",
              "      <td>WETJEN, MARK</td>\n",
              "      <td>WASHINGTON</td>\n",
              "      <td>DC</td>\n",
              "      <td>20017</td>\n",
              "      <td>FTX</td>\n",
              "      <td>FTX.US</td>\n",
              "      <td>NaN</td>\n",
              "      <td>...</td>\n",
              "      <td>2900.0</td>\n",
              "      <td>N00004118</td>\n",
              "      <td>Stabenow, Debbie</td>\n",
              "      <td>D</td>\n",
              "      <td>DI</td>\n",
              "      <td>15J</td>\n",
              "      <td>4042820221473189023</td>\n",
              "      <td>P</td>\n",
              "      <td>C00344473</td>\n",
              "      <td>2022</td>\n",
              "    </tr>\n",
              "  </tbody>\n",
              "</table>\n",
              "<p>5 rows × 21 columns</p>\n",
              "</div>\n",
              "    <div class=\"colab-df-buttons\">\n",
              "\n",
              "  <div class=\"colab-df-container\">\n",
              "    <button class=\"colab-df-convert\" onclick=\"convertToInteractive('df-2f4c0be1-5b42-4647-be53-fb81eae58856')\"\n",
              "            title=\"Convert this dataframe to an interactive table.\"\n",
              "            style=\"display:none;\">\n",
              "\n",
              "  <svg xmlns=\"http://www.w3.org/2000/svg\" height=\"24px\" viewBox=\"0 -960 960 960\">\n",
              "    <path d=\"M120-120v-720h720v720H120Zm60-500h600v-160H180v160Zm220 220h160v-160H400v160Zm0 220h160v-160H400v160ZM180-400h160v-160H180v160Zm440 0h160v-160H620v160ZM180-180h160v-160H180v160Zm440 0h160v-160H620v160Z\"/>\n",
              "  </svg>\n",
              "    </button>\n",
              "\n",
              "  <style>\n",
              "    .colab-df-container {\n",
              "      display:flex;\n",
              "      gap: 12px;\n",
              "    }\n",
              "\n",
              "    .colab-df-convert {\n",
              "      background-color: #E8F0FE;\n",
              "      border: none;\n",
              "      border-radius: 50%;\n",
              "      cursor: pointer;\n",
              "      display: none;\n",
              "      fill: #1967D2;\n",
              "      height: 32px;\n",
              "      padding: 0 0 0 0;\n",
              "      width: 32px;\n",
              "    }\n",
              "\n",
              "    .colab-df-convert:hover {\n",
              "      background-color: #E2EBFA;\n",
              "      box-shadow: 0px 1px 2px rgba(60, 64, 67, 0.3), 0px 1px 3px 1px rgba(60, 64, 67, 0.15);\n",
              "      fill: #174EA6;\n",
              "    }\n",
              "\n",
              "    .colab-df-buttons div {\n",
              "      margin-bottom: 4px;\n",
              "    }\n",
              "\n",
              "    [theme=dark] .colab-df-convert {\n",
              "      background-color: #3B4455;\n",
              "      fill: #D2E3FC;\n",
              "    }\n",
              "\n",
              "    [theme=dark] .colab-df-convert:hover {\n",
              "      background-color: #434B5C;\n",
              "      box-shadow: 0px 1px 3px 1px rgba(0, 0, 0, 0.15);\n",
              "      filter: drop-shadow(0px 1px 2px rgba(0, 0, 0, 0.3));\n",
              "      fill: #FFFFFF;\n",
              "    }\n",
              "  </style>\n",
              "\n",
              "    <script>\n",
              "      const buttonEl =\n",
              "        document.querySelector('#df-2f4c0be1-5b42-4647-be53-fb81eae58856 button.colab-df-convert');\n",
              "      buttonEl.style.display =\n",
              "        google.colab.kernel.accessAllowed ? 'block' : 'none';\n",
              "\n",
              "      async function convertToInteractive(key) {\n",
              "        const element = document.querySelector('#df-2f4c0be1-5b42-4647-be53-fb81eae58856');\n",
              "        const dataTable =\n",
              "          await google.colab.kernel.invokeFunction('convertToInteractive',\n",
              "                                                    [key], {});\n",
              "        if (!dataTable) return;\n",
              "\n",
              "        const docLinkHtml = 'Like what you see? Visit the ' +\n",
              "          '<a target=\"_blank\" href=https://colab.research.google.com/notebooks/data_table.ipynb>data table notebook</a>'\n",
              "          + ' to learn more about interactive tables.';\n",
              "        element.innerHTML = '';\n",
              "        dataTable['output_type'] = 'display_data';\n",
              "        await google.colab.output.renderOutput(dataTable, element);\n",
              "        const docLink = document.createElement('div');\n",
              "        docLink.innerHTML = docLinkHtml;\n",
              "        element.appendChild(docLink);\n",
              "      }\n",
              "    </script>\n",
              "  </div>\n",
              "\n",
              "\n",
              "<div id=\"df-864dbf12-3ed3-4dbf-a21e-596d703bac18\">\n",
              "  <button class=\"colab-df-quickchart\" onclick=\"quickchart('df-864dbf12-3ed3-4dbf-a21e-596d703bac18')\"\n",
              "            title=\"Suggest charts\"\n",
              "            style=\"display:none;\">\n",
              "\n",
              "<svg xmlns=\"http://www.w3.org/2000/svg\" height=\"24px\"viewBox=\"0 0 24 24\"\n",
              "     width=\"24px\">\n",
              "    <g>\n",
              "        <path d=\"M19 3H5c-1.1 0-2 .9-2 2v14c0 1.1.9 2 2 2h14c1.1 0 2-.9 2-2V5c0-1.1-.9-2-2-2zM9 17H7v-7h2v7zm4 0h-2V7h2v10zm4 0h-2v-4h2v4z\"/>\n",
              "    </g>\n",
              "</svg>\n",
              "  </button>\n",
              "\n",
              "<style>\n",
              "  .colab-df-quickchart {\n",
              "      --bg-color: #E8F0FE;\n",
              "      --fill-color: #1967D2;\n",
              "      --hover-bg-color: #E2EBFA;\n",
              "      --hover-fill-color: #174EA6;\n",
              "      --disabled-fill-color: #AAA;\n",
              "      --disabled-bg-color: #DDD;\n",
              "  }\n",
              "\n",
              "  [theme=dark] .colab-df-quickchart {\n",
              "      --bg-color: #3B4455;\n",
              "      --fill-color: #D2E3FC;\n",
              "      --hover-bg-color: #434B5C;\n",
              "      --hover-fill-color: #FFFFFF;\n",
              "      --disabled-bg-color: #3B4455;\n",
              "      --disabled-fill-color: #666;\n",
              "  }\n",
              "\n",
              "  .colab-df-quickchart {\n",
              "    background-color: var(--bg-color);\n",
              "    border: none;\n",
              "    border-radius: 50%;\n",
              "    cursor: pointer;\n",
              "    display: none;\n",
              "    fill: var(--fill-color);\n",
              "    height: 32px;\n",
              "    padding: 0;\n",
              "    width: 32px;\n",
              "  }\n",
              "\n",
              "  .colab-df-quickchart:hover {\n",
              "    background-color: var(--hover-bg-color);\n",
              "    box-shadow: 0 1px 2px rgba(60, 64, 67, 0.3), 0 1px 3px 1px rgba(60, 64, 67, 0.15);\n",
              "    fill: var(--button-hover-fill-color);\n",
              "  }\n",
              "\n",
              "  .colab-df-quickchart-complete:disabled,\n",
              "  .colab-df-quickchart-complete:disabled:hover {\n",
              "    background-color: var(--disabled-bg-color);\n",
              "    fill: var(--disabled-fill-color);\n",
              "    box-shadow: none;\n",
              "  }\n",
              "\n",
              "  .colab-df-spinner {\n",
              "    border: 2px solid var(--fill-color);\n",
              "    border-color: transparent;\n",
              "    border-bottom-color: var(--fill-color);\n",
              "    animation:\n",
              "      spin 1s steps(1) infinite;\n",
              "  }\n",
              "\n",
              "  @keyframes spin {\n",
              "    0% {\n",
              "      border-color: transparent;\n",
              "      border-bottom-color: var(--fill-color);\n",
              "      border-left-color: var(--fill-color);\n",
              "    }\n",
              "    20% {\n",
              "      border-color: transparent;\n",
              "      border-left-color: var(--fill-color);\n",
              "      border-top-color: var(--fill-color);\n",
              "    }\n",
              "    30% {\n",
              "      border-color: transparent;\n",
              "      border-left-color: var(--fill-color);\n",
              "      border-top-color: var(--fill-color);\n",
              "      border-right-color: var(--fill-color);\n",
              "    }\n",
              "    40% {\n",
              "      border-color: transparent;\n",
              "      border-right-color: var(--fill-color);\n",
              "      border-top-color: var(--fill-color);\n",
              "    }\n",
              "    60% {\n",
              "      border-color: transparent;\n",
              "      border-right-color: var(--fill-color);\n",
              "    }\n",
              "    80% {\n",
              "      border-color: transparent;\n",
              "      border-right-color: var(--fill-color);\n",
              "      border-bottom-color: var(--fill-color);\n",
              "    }\n",
              "    90% {\n",
              "      border-color: transparent;\n",
              "      border-bottom-color: var(--fill-color);\n",
              "    }\n",
              "  }\n",
              "</style>\n",
              "\n",
              "  <script>\n",
              "    async function quickchart(key) {\n",
              "      const quickchartButtonEl =\n",
              "        document.querySelector('#' + key + ' button');\n",
              "      quickchartButtonEl.disabled = true;  // To prevent multiple clicks.\n",
              "      quickchartButtonEl.classList.add('colab-df-spinner');\n",
              "      try {\n",
              "        const charts = await google.colab.kernel.invokeFunction(\n",
              "            'suggestCharts', [key], {});\n",
              "      } catch (error) {\n",
              "        console.error('Error during call to suggestCharts:', error);\n",
              "      }\n",
              "      quickchartButtonEl.classList.remove('colab-df-spinner');\n",
              "      quickchartButtonEl.classList.add('colab-df-quickchart-complete');\n",
              "    }\n",
              "    (() => {\n",
              "      let quickchartButtonEl =\n",
              "        document.querySelector('#df-864dbf12-3ed3-4dbf-a21e-596d703bac18 button');\n",
              "      quickchartButtonEl.style.display =\n",
              "        google.colab.kernel.accessAllowed ? 'block' : 'none';\n",
              "    })();\n",
              "  </script>\n",
              "</div>\n",
              "\n",
              "    </div>\n",
              "  </div>\n"
            ],
            "application/vnd.google.colaboratory.intrinsic+json": {
              "type": "dataframe",
              "variable_name": "df"
            }
          },
          "metadata": {},
          "execution_count": 7
        }
      ]
    },
    {
      "cell_type": "markdown",
      "source": [
        "## Preprocess dataframe"
      ],
      "metadata": {
        "id": "b30nybaltZca"
      }
    },
    {
      "cell_type": "code",
      "source": [
        "def preprocess_dataframe(df):\n",
        "    df = pd.read_csv(\"/content/Copy of OpenSecrets.org _ FTX_Alameda Research Contributions - Direct Contributions & JFC Distributions.csv\")\n",
        "    df['date'] = pd.to_datetime(df['date'])\n",
        "    df['amount'] = df['amount'].str.replace('$', '').str.replace(',', '').astype(float)\n",
        "\n",
        "    #Extract year\n",
        "    df['year'] = df['date'].dt.year\n",
        "    return df\n",
        "df = pd.read_csv(\"/content/Copy of OpenSecrets.org _ FTX_Alameda Research Contributions - Direct Contributions & JFC Distributions.csv\")\n",
        "preprocessed_df = preprocess_dataframe(df)"
      ],
      "metadata": {
        "id": "PhOXfQrrtKGS"
      },
      "execution_count": 38,
      "outputs": []
    },
    {
      "cell_type": "markdown",
      "source": [
        "##Create Database"
      ],
      "metadata": {
        "id": "D1uOcsYbthNq"
      }
    },
    {
      "cell_type": "code",
      "source": [
        "def create_database(df, table_name, db_name):\n",
        "    db_path = \"sqlite:///\"+db_name\n",
        "    # Create engine\n",
        "    engine = create_engine(db_path)\n",
        "    table_name = table_name\n",
        "    df.to_sql(name=table_name,con=engine,index=False)\n",
        "\n",
        "    #wrap llama_index database layer\n",
        "    sql_database = SQLDatabase(engine, sample_rows_in_table_info=4)\n",
        "    sql_database\n",
        "    return engine, sql_database\n",
        "\n",
        "table_name, db_name = 'open_secrets', 'sample_db'\n",
        "db_engine, sql_database = create_database(preprocessed_df, table_name, db_name)"
      ],
      "metadata": {
        "id": "fKXndFDA0sBh"
      },
      "execution_count": 39,
      "outputs": []
    },
    {
      "cell_type": "markdown",
      "source": [
        "## Get Table Metadata"
      ],
      "metadata": {
        "id": "hJkGJGMIt9zX"
      }
    },
    {
      "cell_type": "code",
      "source": [
        "def get_table_metadata(df):\n",
        "    data_json = df.to_json(orient='records')\n",
        "    data_json_list = json.loads(data_json)\n",
        "    llama_docs = list()\n",
        "\n",
        "    for data_json in data_json_list:\n",
        "        for field in df.columns:\n",
        "            data_json[field] = json.dumps(data_json[field])\n",
        "        llama_doc = Document(\n",
        "                      metadata = data_json,\n",
        "                      text_format = \"metadata:{metadata_str}\\n---content:{content}\" )\n",
        "        llama_docs.append(llama_doc)\n",
        "    return llama_docs"
      ],
      "metadata": {
        "id": "IzRlqWyD8r7_"
      },
      "execution_count": 40,
      "outputs": []
    },
    {
      "cell_type": "code",
      "source": [
        "df_metadata = get_table_metadata(preprocessed_df)"
      ],
      "metadata": {
        "id": "7c_GcI8IZ1QY"
      },
      "execution_count": 41,
      "outputs": []
    },
    {
      "cell_type": "markdown",
      "source": [
        "## Use LLM to extract DB info"
      ],
      "metadata": {
        "id": "baMLVTmhuGaf"
      }
    },
    {
      "cell_type": "code",
      "source": [
        "def get_table_info_using_LLM(df_metadata):\n",
        "    prompt_schema = \"\"\"\n",
        "        Generate a database schema in JSON format based on the provided table metadata.\n",
        "\n",
        "        Requirements:\n",
        "        1. Create a valid JSON schema following this exact format:\n",
        "        {{\n",
        "               \"open_secrets\": {{\n",
        "              \"table_description\": \"A single sentence describing the table's purpose\",\n",
        "              \"columns\": {{\n",
        "              \"column_name\": \"description\"\n",
        "          }}\n",
        "        }}\n",
        "        }}\n",
        "\n",
        "        2. Follow these rules:\n",
        "        - Table description should be one clear, concise sentence\n",
        "        - Each column description should be brief but informative\n",
        "        - Use consistent language for similar types of columns\n",
        "        - Preserve the exact column names as given\n",
        "\n",
        "        Input Metadata:\n",
        "        {doc}\n",
        "\n",
        "        Return only the JSON schema, no additional text.\n",
        "        \"\"\"\n",
        "\n",
        "    prompt_template = ChatPromptTemplate.from_template(prompt_schema)\n",
        "    llm = ChatOpenAI(model='gpt-4o-mini')\n",
        "\n",
        "    chain = prompt_template | llm | JsonOutputParser()\n",
        "\n",
        "    table_info = chain.invoke({\"doc\": df_metadata})\n",
        "    return table_info\n"
      ],
      "metadata": {
        "id": "XQQxEr1xuSdl"
      },
      "execution_count": 42,
      "outputs": []
    },
    {
      "cell_type": "code",
      "source": [
        "table_info = get_table_info_using_LLM(df_metadata)"
      ],
      "metadata": {
        "id": "I-nGN1ieuyOH"
      },
      "execution_count": 43,
      "outputs": []
    },
    {
      "cell_type": "code",
      "source": [
        "table_info"
      ],
      "metadata": {
        "colab": {
          "base_uri": "https://localhost:8080/"
        },
        "id": "YtmvdTyelnGp",
        "outputId": "f59714c4-a341-4e0f-e972-ec244822ad79"
      },
      "execution_count": 44,
      "outputs": [
        {
          "output_type": "execute_result",
          "data": {
            "text/plain": [
              "{'open_secrets': {'table_description': 'This table stores campaign contributions made to federal and state political entities.',\n",
              "  'columns': {'cycle': 'The election cycle year.',\n",
              "   'State/Federal': 'Indicates whether the contribution is for a state or federal election.',\n",
              "   'contribid': 'Unique identifier for the contributor.',\n",
              "   'contrib': 'Name of the contributor.',\n",
              "   'City': 'City of the contributor.',\n",
              "   'State': 'State of the contributor.',\n",
              "   'Zip': 'Zip code of the contributor.',\n",
              "   'Fecoccemp': 'Name of the employer or organization associated with the contribution.',\n",
              "   'orgname': 'Name of the organization making the contribution.',\n",
              "   'ultorg': 'Ultimate organization name (if applicable).',\n",
              "   'date': 'Timestamp of the contribution.',\n",
              "   'amount': 'Monetary amount of the contribution.',\n",
              "   'recipid': 'Unique identifier for the recipient of the contribution.',\n",
              "   'recipient': 'Name of the candidate or committee receiving the contribution.',\n",
              "   'party': 'Political party affiliation of the candidate or committee.',\n",
              "   'recipcode': 'Code representing the recipient type.',\n",
              "   'type': 'Type of transaction or contribution.',\n",
              "   'fectransid': 'Unique transaction identifier.',\n",
              "   'pg': 'Page number in the report where the contribution is listed.',\n",
              "   'cmteid': 'Identifier for the committee receiving the contribution.',\n",
              "   'year': 'Year of the contribution.'}}}"
            ]
          },
          "metadata": {},
          "execution_count": 44
        }
      ]
    },
    {
      "cell_type": "markdown",
      "source": [
        "## Function to Convert NLP query to SQL"
      ],
      "metadata": {
        "id": "h1z86wJ15V4s"
      }
    },
    {
      "cell_type": "code",
      "source": [
        "def Nlp_to_SQL_query(sql_database, table_name, table_info, nlp_query):\n",
        "    sql_query_engine = NLSQLTableQueryEngine(sql_database=sql_database, tables=[table_name], table_context_dict=table_info )\n",
        "    response = sql_query_engine.query(nlp_query)\n",
        "    sql_query = response.metadata['sql_query']\n",
        "    query_output = response.response\n",
        "    return sql_query,query_output"
      ],
      "metadata": {
        "id": "3Dbk-bYs3Dvd"
      },
      "execution_count": 45,
      "outputs": []
    },
    {
      "cell_type": "code",
      "source": [
        "sql_query,query_output = Nlp_to_SQL_query(sql_database, 'open_secrets', table_info, 'Find organizations with highest total contributions through different contributors')"
      ],
      "metadata": {
        "id": "ZQhovtXt3oHA"
      },
      "execution_count": 69,
      "outputs": []
    },
    {
      "cell_type": "code",
      "source": [
        "sql_query"
      ],
      "metadata": {
        "colab": {
          "base_uri": "https://localhost:8080/",
          "height": 52
        },
        "id": "rKqql1Ta3yWa",
        "outputId": "9e8b59db-16a5-4e57-c3e5-98759a8a31d0"
      },
      "execution_count": 70,
      "outputs": [
        {
          "output_type": "execute_result",
          "data": {
            "text/plain": [
              "'SELECT orgname, SUM(amount) AS total_contributions\\nFROM open_secrets\\nGROUP BY orgname\\nORDER BY total_contributions DESC'"
            ],
            "application/vnd.google.colaboratory.intrinsic+json": {
              "type": "string"
            }
          },
          "metadata": {},
          "execution_count": 70
        }
      ]
    },
    {
      "cell_type": "code",
      "source": [
        "df"
      ],
      "metadata": {
        "id": "ObAoTH98nm8O"
      },
      "execution_count": null,
      "outputs": []
    },
    {
      "cell_type": "code",
      "source": [
        "from llama_index.core.query_engine import NLSQLTableQueryEngine\n",
        "\n",
        "sql_query_engine = NLSQLTableQueryEngine(sql_database=sql_database, tables=[\"open_secrets\"], table_context_dict=table_info )"
      ],
      "metadata": {
        "id": "6x6z8H5s2Kqj"
      },
      "execution_count": 25,
      "outputs": []
    },
    {
      "cell_type": "code",
      "source": [
        "response = sql_query_engine.query(\"Find organizations with highest total contributions through different contributors\")"
      ],
      "metadata": {
        "id": "34GxRj-L30Pl"
      },
      "execution_count": 71,
      "outputs": []
    },
    {
      "cell_type": "code",
      "source": [
        "print(response.metadata['sql_query'])"
      ],
      "metadata": {
        "colab": {
          "base_uri": "https://localhost:8080/"
        },
        "id": "wyJvd7SE28vn",
        "outputId": "7c798d44-efd8-4afb-a345-ececfd3e0787"
      },
      "execution_count": 72,
      "outputs": [
        {
          "output_type": "stream",
          "name": "stdout",
          "text": [
            "SELECT orgname, SUM(amount) AS total_contributions\n",
            "FROM open_secrets\n",
            "GROUP BY orgname\n",
            "ORDER BY total_contributions DESC;\n"
          ]
        }
      ]
    },
    {
      "cell_type": "code",
      "source": [
        "response.response"
      ],
      "metadata": {
        "colab": {
          "base_uri": "https://localhost:8080/",
          "height": 87
        },
        "id": "-O_jjVle4pcT",
        "outputId": "01c84db4-eced-4722-94d6-05228bebd061"
      },
      "execution_count": 73,
      "outputs": [
        {
          "output_type": "execute_result",
          "data": {
            "text/plain": [
              "'The organizations with the highest total contributions through different contributors are West Realm Shires Services, Sullivan & Cromwell, Miax Exchange Group, Miami International Holdings, Ftxs, FTX.US, FTX Digital Markets, Alameda Research (Bahamas) Ltd, and Alameda Research.'"
            ],
            "application/vnd.google.colaboratory.intrinsic+json": {
              "type": "string"
            }
          },
          "metadata": {},
          "execution_count": 73
        }
      ]
    },
    {
      "cell_type": "code",
      "source": [
        "print(response.metadata['sql_query'])"
      ],
      "metadata": {
        "colab": {
          "base_uri": "https://localhost:8080/"
        },
        "id": "8pYEtwtb4Ipq",
        "outputId": "84780f03-4835-4b80-9722-8e2835678b69"
      },
      "execution_count": null,
      "outputs": [
        {
          "output_type": "stream",
          "name": "stdout",
          "text": [
            "SELECT recipient, SUM(amount) as total_amount FROM open_secrets GROUP BY recipient ORDER BY total_amount DESC LIMIT 5;\n"
          ]
        }
      ]
    },
    {
      "cell_type": "markdown",
      "source": [
        "## Main Function - NLP text to sql query generator\n"
      ],
      "metadata": {
        "id": "SPBCNVsP_cG6"
      }
    },
    {
      "cell_type": "code",
      "source": [
        "def run(df, db_name, table_name, sample_nlp_queries):\n",
        "\n",
        "  #Preprocess dataframe\n",
        "  preprocessed_df = preprocess_dataframe(df)\n",
        "\n",
        "  #create database and llama_index db layer\n",
        "  db_engine, sql_database = create_database(df, table_name, db_name)\n",
        "\n",
        "  #extract metadata of table\n",
        "  df_metadata = get_table_metadata(preprocessed_df)\n",
        "\n",
        "  #Using Gpt-4 to extract table summary and col info\n",
        "  table_info = get_table_info_using_LLM(df_metadata)\n",
        "\n",
        "  Nlp_to_sql_query = list()\n",
        "  for nlp_query in sample_nlp_queries:\n",
        "      #Get NLP to SQL query\n",
        "      sql_query,query_output = Nlp_to_SQL_query(sql_database, 'open_secrets', table_info, nlp_query)\n",
        "      Nlp_to_sql_query.append((nlp_query,sql_query))\n",
        "\n",
        "  return Nlp_to_sql_query\n",
        "\n"
      ],
      "metadata": {
        "id": "nTwmEA5StAXc"
      },
      "execution_count": 74,
      "outputs": []
    },
    {
      "cell_type": "code",
      "source": [
        "sample_nlp_queries = ['Find total contributions by each contributor.', 'List all contributions made in the year 2022.',\n",
        "'Find the top 5 recipients who received the highest total contributions.', 'Count the number of contributions made by contributors from the state of California (CA).',\n",
        "'Find the average contribution amount.', 'Tell me the maximum donation done by SBF.', 'What is the trend of contributions over different election cycles by party?', \"Who are the top 10 contributors by total contribution amount?\",\n",
        "\"Show contribution patterns by occupation/employer\", \"Show distribution of contribution types\", \"Find organizations with highest total contributions through different contributors\"]\n",
        "\n",
        "# Main function inputs :\n",
        "df = pd.read_csv(\"/content/Copy of OpenSecrets.org _ FTX_Alameda Research Contributions - Direct Contributions & JFC Distributions.csv\")\n",
        "db_name ='sample_db'\n",
        "table_name = 'open_secrets'\n",
        "\n",
        "# Main Function : returns tuple with first element as NLP query and second element as SQL query.\n",
        "Nlp_to_sql_query_list = run(df, db_name, table_name, sample_nlp_queries)\n"
      ],
      "metadata": {
        "id": "lxjnIwfQ4KQ9"
      },
      "execution_count": 75,
      "outputs": []
    },
    {
      "cell_type": "code",
      "source": [
        "Nlp_to_sql_query_list"
      ],
      "metadata": {
        "colab": {
          "base_uri": "https://localhost:8080/"
        },
        "id": "TExn5oAk5umu",
        "outputId": "6996b1d8-c351-4a07-ed6f-2876ace1c937"
      },
      "execution_count": 79,
      "outputs": [
        {
          "output_type": "execute_result",
          "data": {
            "text/plain": [
              "[('Find total contributions by each contributor.',\n",
              "  'SELECT contrib, SUM(amount) AS total_contributions\\nFROM open_secrets\\nGROUP BY contrib\\nORDER BY total_contributions DESC;'),\n",
              " ('List all contributions made in the year 2022.',\n",
              "  'SELECT contribid, contrib, date, amount\\nFROM open_secrets\\nWHERE cycle = 2022\\nORDER BY amount DESC;'),\n",
              " ('Find the top 5 recipients who received the highest total contributions.',\n",
              "  'SELECT recipient, SUM(amount) AS total_contributions\\nFROM open_secrets\\nGROUP BY recipient\\nORDER BY total_contributions DESC\\nLIMIT 5;'),\n",
              " ('Count the number of contributions made by contributors from the state of California (CA).',\n",
              "  \"SELECT COUNT(*) \\nFROM open_secrets\\nWHERE State = 'CA';\"),\n",
              " ('Find the average contribution amount.',\n",
              "  'SELECT AVG(amount) AS avg_contribution_amount FROM open_secrets'),\n",
              " ('Tell me the maximum donation done by SBF.',\n",
              "  \"SELECT MAX(amount) \\nFROM open_secrets \\nWHERE orgname = 'SBF';\"),\n",
              " ('What is the trend of contributions over different election cycles by party?',\n",
              "  'SELECT cycle, party, SUM(amount) AS total_contributions\\nFROM open_secrets\\nGROUP BY cycle, party\\nORDER BY cycle, total_contributions DESC;'),\n",
              " ('Who are the top 10 contributors by total contribution amount?',\n",
              "  'SELECT contrib, SUM(amount) AS total_contribution\\nFROM open_secrets\\nGROUP BY contrib\\nORDER BY total_contribution DESC\\nLIMIT 10;'),\n",
              " ('Show contribution patterns by occupation/employer',\n",
              "  'SELECT orgname, ultorg, SUM(amount) AS total_contribution\\nFROM open_secrets\\nGROUP BY orgname, ultorg\\nORDER BY total_contribution DESC;'),\n",
              " ('Show distribution of contribution types',\n",
              "  'SELECT type, COUNT(*) as num_contributions\\nFROM open_secrets\\nGROUP BY type\\nORDER BY num_contributions DESC;'),\n",
              " ('Find organizations with highest total contributions through different contributors',\n",
              "  'SELECT orgname, SUM(amount) AS total_contributions\\nFROM open_secrets\\nGROUP BY orgname\\nORDER BY total_contributions DESC;')]"
            ]
          },
          "metadata": {},
          "execution_count": 79
        }
      ]
    },
    {
      "cell_type": "code",
      "source": [
        "sample_test_queries = pd.DataFrame(Nlp_to_sql_query_list, columns = ['NLP_query', 'SQL_query'])"
      ],
      "metadata": {
        "id": "2Hhj-rZB6WQw"
      },
      "execution_count": 76,
      "outputs": []
    },
    {
      "cell_type": "code",
      "source": [
        "sample_test_queries"
      ],
      "metadata": {
        "colab": {
          "base_uri": "https://localhost:8080/",
          "height": 585
        },
        "id": "g-2HU4U16h15",
        "outputId": "6ac89291-1952-4e5a-ed34-d89234fe3ba0"
      },
      "execution_count": 78,
      "outputs": [
        {
          "output_type": "execute_result",
          "data": {
            "text/plain": [
              "                                            NLP_query  \\\n",
              "0       Find total contributions by each contributor.   \n",
              "1       List all contributions made in the year 2022.   \n",
              "2   Find the top 5 recipients who received the hig...   \n",
              "3   Count the number of contributions made by cont...   \n",
              "4               Find the average contribution amount.   \n",
              "5           Tell me the maximum donation done by SBF.   \n",
              "6   What is the trend of contributions over differ...   \n",
              "7   Who are the top 10 contributors by total contr...   \n",
              "8   Show contribution patterns by occupation/employer   \n",
              "9             Show distribution of contribution types   \n",
              "10  Find organizations with highest total contribu...   \n",
              "\n",
              "                                            SQL_query  \n",
              "0   SELECT contrib, SUM(amount) AS total_contribut...  \n",
              "1   SELECT contribid, contrib, date, amount\\nFROM ...  \n",
              "2   SELECT recipient, SUM(amount) AS total_contrib...  \n",
              "3   SELECT COUNT(*) \\nFROM open_secrets\\nWHERE Sta...  \n",
              "4   SELECT AVG(amount) AS avg_contribution_amount ...  \n",
              "5   SELECT MAX(amount) \\nFROM open_secrets \\nWHERE...  \n",
              "6   SELECT cycle, party, SUM(amount) AS total_cont...  \n",
              "7   SELECT contrib, SUM(amount) AS total_contribut...  \n",
              "8   SELECT orgname, ultorg, SUM(amount) AS total_c...  \n",
              "9   SELECT type, COUNT(*) as num_contributions\\nFR...  \n",
              "10  SELECT orgname, SUM(amount) AS total_contribut...  "
            ],
            "text/html": [
              "\n",
              "  <div id=\"df-4c0b6d7c-f4c0-46a1-998c-259f182fd403\" class=\"colab-df-container\">\n",
              "    <div>\n",
              "<style scoped>\n",
              "    .dataframe tbody tr th:only-of-type {\n",
              "        vertical-align: middle;\n",
              "    }\n",
              "\n",
              "    .dataframe tbody tr th {\n",
              "        vertical-align: top;\n",
              "    }\n",
              "\n",
              "    .dataframe thead th {\n",
              "        text-align: right;\n",
              "    }\n",
              "</style>\n",
              "<table border=\"1\" class=\"dataframe\">\n",
              "  <thead>\n",
              "    <tr style=\"text-align: right;\">\n",
              "      <th></th>\n",
              "      <th>NLP_query</th>\n",
              "      <th>SQL_query</th>\n",
              "    </tr>\n",
              "  </thead>\n",
              "  <tbody>\n",
              "    <tr>\n",
              "      <th>0</th>\n",
              "      <td>Find total contributions by each contributor.</td>\n",
              "      <td>SELECT contrib, SUM(amount) AS total_contribut...</td>\n",
              "    </tr>\n",
              "    <tr>\n",
              "      <th>1</th>\n",
              "      <td>List all contributions made in the year 2022.</td>\n",
              "      <td>SELECT contribid, contrib, date, amount\\nFROM ...</td>\n",
              "    </tr>\n",
              "    <tr>\n",
              "      <th>2</th>\n",
              "      <td>Find the top 5 recipients who received the hig...</td>\n",
              "      <td>SELECT recipient, SUM(amount) AS total_contrib...</td>\n",
              "    </tr>\n",
              "    <tr>\n",
              "      <th>3</th>\n",
              "      <td>Count the number of contributions made by cont...</td>\n",
              "      <td>SELECT COUNT(*) \\nFROM open_secrets\\nWHERE Sta...</td>\n",
              "    </tr>\n",
              "    <tr>\n",
              "      <th>4</th>\n",
              "      <td>Find the average contribution amount.</td>\n",
              "      <td>SELECT AVG(amount) AS avg_contribution_amount ...</td>\n",
              "    </tr>\n",
              "    <tr>\n",
              "      <th>5</th>\n",
              "      <td>Tell me the maximum donation done by SBF.</td>\n",
              "      <td>SELECT MAX(amount) \\nFROM open_secrets \\nWHERE...</td>\n",
              "    </tr>\n",
              "    <tr>\n",
              "      <th>6</th>\n",
              "      <td>What is the trend of contributions over differ...</td>\n",
              "      <td>SELECT cycle, party, SUM(amount) AS total_cont...</td>\n",
              "    </tr>\n",
              "    <tr>\n",
              "      <th>7</th>\n",
              "      <td>Who are the top 10 contributors by total contr...</td>\n",
              "      <td>SELECT contrib, SUM(amount) AS total_contribut...</td>\n",
              "    </tr>\n",
              "    <tr>\n",
              "      <th>8</th>\n",
              "      <td>Show contribution patterns by occupation/employer</td>\n",
              "      <td>SELECT orgname, ultorg, SUM(amount) AS total_c...</td>\n",
              "    </tr>\n",
              "    <tr>\n",
              "      <th>9</th>\n",
              "      <td>Show distribution of contribution types</td>\n",
              "      <td>SELECT type, COUNT(*) as num_contributions\\nFR...</td>\n",
              "    </tr>\n",
              "    <tr>\n",
              "      <th>10</th>\n",
              "      <td>Find organizations with highest total contribu...</td>\n",
              "      <td>SELECT orgname, SUM(amount) AS total_contribut...</td>\n",
              "    </tr>\n",
              "  </tbody>\n",
              "</table>\n",
              "</div>\n",
              "    <div class=\"colab-df-buttons\">\n",
              "\n",
              "  <div class=\"colab-df-container\">\n",
              "    <button class=\"colab-df-convert\" onclick=\"convertToInteractive('df-4c0b6d7c-f4c0-46a1-998c-259f182fd403')\"\n",
              "            title=\"Convert this dataframe to an interactive table.\"\n",
              "            style=\"display:none;\">\n",
              "\n",
              "  <svg xmlns=\"http://www.w3.org/2000/svg\" height=\"24px\" viewBox=\"0 -960 960 960\">\n",
              "    <path d=\"M120-120v-720h720v720H120Zm60-500h600v-160H180v160Zm220 220h160v-160H400v160Zm0 220h160v-160H400v160ZM180-400h160v-160H180v160Zm440 0h160v-160H620v160ZM180-180h160v-160H180v160Zm440 0h160v-160H620v160Z\"/>\n",
              "  </svg>\n",
              "    </button>\n",
              "\n",
              "  <style>\n",
              "    .colab-df-container {\n",
              "      display:flex;\n",
              "      gap: 12px;\n",
              "    }\n",
              "\n",
              "    .colab-df-convert {\n",
              "      background-color: #E8F0FE;\n",
              "      border: none;\n",
              "      border-radius: 50%;\n",
              "      cursor: pointer;\n",
              "      display: none;\n",
              "      fill: #1967D2;\n",
              "      height: 32px;\n",
              "      padding: 0 0 0 0;\n",
              "      width: 32px;\n",
              "    }\n",
              "\n",
              "    .colab-df-convert:hover {\n",
              "      background-color: #E2EBFA;\n",
              "      box-shadow: 0px 1px 2px rgba(60, 64, 67, 0.3), 0px 1px 3px 1px rgba(60, 64, 67, 0.15);\n",
              "      fill: #174EA6;\n",
              "    }\n",
              "\n",
              "    .colab-df-buttons div {\n",
              "      margin-bottom: 4px;\n",
              "    }\n",
              "\n",
              "    [theme=dark] .colab-df-convert {\n",
              "      background-color: #3B4455;\n",
              "      fill: #D2E3FC;\n",
              "    }\n",
              "\n",
              "    [theme=dark] .colab-df-convert:hover {\n",
              "      background-color: #434B5C;\n",
              "      box-shadow: 0px 1px 3px 1px rgba(0, 0, 0, 0.15);\n",
              "      filter: drop-shadow(0px 1px 2px rgba(0, 0, 0, 0.3));\n",
              "      fill: #FFFFFF;\n",
              "    }\n",
              "  </style>\n",
              "\n",
              "    <script>\n",
              "      const buttonEl =\n",
              "        document.querySelector('#df-4c0b6d7c-f4c0-46a1-998c-259f182fd403 button.colab-df-convert');\n",
              "      buttonEl.style.display =\n",
              "        google.colab.kernel.accessAllowed ? 'block' : 'none';\n",
              "\n",
              "      async function convertToInteractive(key) {\n",
              "        const element = document.querySelector('#df-4c0b6d7c-f4c0-46a1-998c-259f182fd403');\n",
              "        const dataTable =\n",
              "          await google.colab.kernel.invokeFunction('convertToInteractive',\n",
              "                                                    [key], {});\n",
              "        if (!dataTable) return;\n",
              "\n",
              "        const docLinkHtml = 'Like what you see? Visit the ' +\n",
              "          '<a target=\"_blank\" href=https://colab.research.google.com/notebooks/data_table.ipynb>data table notebook</a>'\n",
              "          + ' to learn more about interactive tables.';\n",
              "        element.innerHTML = '';\n",
              "        dataTable['output_type'] = 'display_data';\n",
              "        await google.colab.output.renderOutput(dataTable, element);\n",
              "        const docLink = document.createElement('div');\n",
              "        docLink.innerHTML = docLinkHtml;\n",
              "        element.appendChild(docLink);\n",
              "      }\n",
              "    </script>\n",
              "  </div>\n",
              "\n",
              "\n",
              "<div id=\"df-931141b8-b8ab-44df-bd6b-fad0cc9d47ca\">\n",
              "  <button class=\"colab-df-quickchart\" onclick=\"quickchart('df-931141b8-b8ab-44df-bd6b-fad0cc9d47ca')\"\n",
              "            title=\"Suggest charts\"\n",
              "            style=\"display:none;\">\n",
              "\n",
              "<svg xmlns=\"http://www.w3.org/2000/svg\" height=\"24px\"viewBox=\"0 0 24 24\"\n",
              "     width=\"24px\">\n",
              "    <g>\n",
              "        <path d=\"M19 3H5c-1.1 0-2 .9-2 2v14c0 1.1.9 2 2 2h14c1.1 0 2-.9 2-2V5c0-1.1-.9-2-2-2zM9 17H7v-7h2v7zm4 0h-2V7h2v10zm4 0h-2v-4h2v4z\"/>\n",
              "    </g>\n",
              "</svg>\n",
              "  </button>\n",
              "\n",
              "<style>\n",
              "  .colab-df-quickchart {\n",
              "      --bg-color: #E8F0FE;\n",
              "      --fill-color: #1967D2;\n",
              "      --hover-bg-color: #E2EBFA;\n",
              "      --hover-fill-color: #174EA6;\n",
              "      --disabled-fill-color: #AAA;\n",
              "      --disabled-bg-color: #DDD;\n",
              "  }\n",
              "\n",
              "  [theme=dark] .colab-df-quickchart {\n",
              "      --bg-color: #3B4455;\n",
              "      --fill-color: #D2E3FC;\n",
              "      --hover-bg-color: #434B5C;\n",
              "      --hover-fill-color: #FFFFFF;\n",
              "      --disabled-bg-color: #3B4455;\n",
              "      --disabled-fill-color: #666;\n",
              "  }\n",
              "\n",
              "  .colab-df-quickchart {\n",
              "    background-color: var(--bg-color);\n",
              "    border: none;\n",
              "    border-radius: 50%;\n",
              "    cursor: pointer;\n",
              "    display: none;\n",
              "    fill: var(--fill-color);\n",
              "    height: 32px;\n",
              "    padding: 0;\n",
              "    width: 32px;\n",
              "  }\n",
              "\n",
              "  .colab-df-quickchart:hover {\n",
              "    background-color: var(--hover-bg-color);\n",
              "    box-shadow: 0 1px 2px rgba(60, 64, 67, 0.3), 0 1px 3px 1px rgba(60, 64, 67, 0.15);\n",
              "    fill: var(--button-hover-fill-color);\n",
              "  }\n",
              "\n",
              "  .colab-df-quickchart-complete:disabled,\n",
              "  .colab-df-quickchart-complete:disabled:hover {\n",
              "    background-color: var(--disabled-bg-color);\n",
              "    fill: var(--disabled-fill-color);\n",
              "    box-shadow: none;\n",
              "  }\n",
              "\n",
              "  .colab-df-spinner {\n",
              "    border: 2px solid var(--fill-color);\n",
              "    border-color: transparent;\n",
              "    border-bottom-color: var(--fill-color);\n",
              "    animation:\n",
              "      spin 1s steps(1) infinite;\n",
              "  }\n",
              "\n",
              "  @keyframes spin {\n",
              "    0% {\n",
              "      border-color: transparent;\n",
              "      border-bottom-color: var(--fill-color);\n",
              "      border-left-color: var(--fill-color);\n",
              "    }\n",
              "    20% {\n",
              "      border-color: transparent;\n",
              "      border-left-color: var(--fill-color);\n",
              "      border-top-color: var(--fill-color);\n",
              "    }\n",
              "    30% {\n",
              "      border-color: transparent;\n",
              "      border-left-color: var(--fill-color);\n",
              "      border-top-color: var(--fill-color);\n",
              "      border-right-color: var(--fill-color);\n",
              "    }\n",
              "    40% {\n",
              "      border-color: transparent;\n",
              "      border-right-color: var(--fill-color);\n",
              "      border-top-color: var(--fill-color);\n",
              "    }\n",
              "    60% {\n",
              "      border-color: transparent;\n",
              "      border-right-color: var(--fill-color);\n",
              "    }\n",
              "    80% {\n",
              "      border-color: transparent;\n",
              "      border-right-color: var(--fill-color);\n",
              "      border-bottom-color: var(--fill-color);\n",
              "    }\n",
              "    90% {\n",
              "      border-color: transparent;\n",
              "      border-bottom-color: var(--fill-color);\n",
              "    }\n",
              "  }\n",
              "</style>\n",
              "\n",
              "  <script>\n",
              "    async function quickchart(key) {\n",
              "      const quickchartButtonEl =\n",
              "        document.querySelector('#' + key + ' button');\n",
              "      quickchartButtonEl.disabled = true;  // To prevent multiple clicks.\n",
              "      quickchartButtonEl.classList.add('colab-df-spinner');\n",
              "      try {\n",
              "        const charts = await google.colab.kernel.invokeFunction(\n",
              "            'suggestCharts', [key], {});\n",
              "      } catch (error) {\n",
              "        console.error('Error during call to suggestCharts:', error);\n",
              "      }\n",
              "      quickchartButtonEl.classList.remove('colab-df-spinner');\n",
              "      quickchartButtonEl.classList.add('colab-df-quickchart-complete');\n",
              "    }\n",
              "    (() => {\n",
              "      let quickchartButtonEl =\n",
              "        document.querySelector('#df-931141b8-b8ab-44df-bd6b-fad0cc9d47ca button');\n",
              "      quickchartButtonEl.style.display =\n",
              "        google.colab.kernel.accessAllowed ? 'block' : 'none';\n",
              "    })();\n",
              "  </script>\n",
              "</div>\n",
              "\n",
              "  <div id=\"id_ba6e4103-9fff-48a9-9b4c-dc68896abaa4\">\n",
              "    <style>\n",
              "      .colab-df-generate {\n",
              "        background-color: #E8F0FE;\n",
              "        border: none;\n",
              "        border-radius: 50%;\n",
              "        cursor: pointer;\n",
              "        display: none;\n",
              "        fill: #1967D2;\n",
              "        height: 32px;\n",
              "        padding: 0 0 0 0;\n",
              "        width: 32px;\n",
              "      }\n",
              "\n",
              "      .colab-df-generate:hover {\n",
              "        background-color: #E2EBFA;\n",
              "        box-shadow: 0px 1px 2px rgba(60, 64, 67, 0.3), 0px 1px 3px 1px rgba(60, 64, 67, 0.15);\n",
              "        fill: #174EA6;\n",
              "      }\n",
              "\n",
              "      [theme=dark] .colab-df-generate {\n",
              "        background-color: #3B4455;\n",
              "        fill: #D2E3FC;\n",
              "      }\n",
              "\n",
              "      [theme=dark] .colab-df-generate:hover {\n",
              "        background-color: #434B5C;\n",
              "        box-shadow: 0px 1px 3px 1px rgba(0, 0, 0, 0.15);\n",
              "        filter: drop-shadow(0px 1px 2px rgba(0, 0, 0, 0.3));\n",
              "        fill: #FFFFFF;\n",
              "      }\n",
              "    </style>\n",
              "    <button class=\"colab-df-generate\" onclick=\"generateWithVariable('sample_test_queries')\"\n",
              "            title=\"Generate code using this dataframe.\"\n",
              "            style=\"display:none;\">\n",
              "\n",
              "  <svg xmlns=\"http://www.w3.org/2000/svg\" height=\"24px\"viewBox=\"0 0 24 24\"\n",
              "       width=\"24px\">\n",
              "    <path d=\"M7,19H8.4L18.45,9,17,7.55,7,17.6ZM5,21V16.75L18.45,3.32a2,2,0,0,1,2.83,0l1.4,1.43a1.91,1.91,0,0,1,.58,1.4,1.91,1.91,0,0,1-.58,1.4L9.25,21ZM18.45,9,17,7.55Zm-12,3A5.31,5.31,0,0,0,4.9,8.1,5.31,5.31,0,0,0,1,6.5,5.31,5.31,0,0,0,4.9,4.9,5.31,5.31,0,0,0,6.5,1,5.31,5.31,0,0,0,8.1,4.9,5.31,5.31,0,0,0,12,6.5,5.46,5.46,0,0,0,6.5,12Z\"/>\n",
              "  </svg>\n",
              "    </button>\n",
              "    <script>\n",
              "      (() => {\n",
              "      const buttonEl =\n",
              "        document.querySelector('#id_ba6e4103-9fff-48a9-9b4c-dc68896abaa4 button.colab-df-generate');\n",
              "      buttonEl.style.display =\n",
              "        google.colab.kernel.accessAllowed ? 'block' : 'none';\n",
              "\n",
              "      buttonEl.onclick = () => {\n",
              "        google.colab.notebook.generateWithVariable('sample_test_queries');\n",
              "      }\n",
              "      })();\n",
              "    </script>\n",
              "  </div>\n",
              "\n",
              "    </div>\n",
              "  </div>\n"
            ],
            "application/vnd.google.colaboratory.intrinsic+json": {
              "type": "dataframe",
              "variable_name": "sample_test_queries",
              "summary": "{\n  \"name\": \"sample_test_queries\",\n  \"rows\": 11,\n  \"fields\": [\n    {\n      \"column\": \"NLP_query\",\n      \"properties\": {\n        \"dtype\": \"string\",\n        \"num_unique_values\": 11,\n        \"samples\": [\n          \"Tell me the maximum donation done by SBF.\",\n          \"Find total contributions by each contributor.\",\n          \"Show distribution of contribution types\"\n        ],\n        \"semantic_type\": \"\",\n        \"description\": \"\"\n      }\n    },\n    {\n      \"column\": \"SQL_query\",\n      \"properties\": {\n        \"dtype\": \"string\",\n        \"num_unique_values\": 11,\n        \"samples\": [\n          \"SELECT MAX(amount) \\nFROM open_secrets \\nWHERE orgname = 'SBF';\",\n          \"SELECT contrib, SUM(amount) AS total_contributions\\nFROM open_secrets\\nGROUP BY contrib\\nORDER BY total_contributions DESC;\",\n          \"SELECT type, COUNT(*) as num_contributions\\nFROM open_secrets\\nGROUP BY type\\nORDER BY num_contributions DESC;\"\n        ],\n        \"semantic_type\": \"\",\n        \"description\": \"\"\n      }\n    }\n  ]\n}"
            }
          },
          "metadata": {},
          "execution_count": 78
        }
      ]
    },
    {
      "cell_type": "code",
      "source": [
        "sample_test_queries.to_csv('sample_test_queries_output.csv')"
      ],
      "metadata": {
        "id": "obCiazUP-xKn"
      },
      "execution_count": 77,
      "outputs": []
    },
    {
      "cell_type": "code",
      "source": [
        "from llama_index.core.tools import QueryEngineTool, ToolMetadata\n",
        "\n",
        "sql_tool = QueryEngineTool(\n",
        "    query_engine=sql_query_engine,\n",
        "    metadata=ToolMetadata(\n",
        "        name=\"DB_query_tool\",\n",
        "        description=\"\"\"\n",
        "        {Table_info}\n",
        "\n",
        "        The tool converts natural language questions into SQL queries. And later executes sql query on database to fetch output.\n",
        "        Input should be a clear question about campaign contributions.\n",
        "        \"\"\"\n",
        "    )\n",
        ")"
      ],
      "metadata": {
        "id": "m7SKW-5VAky4"
      },
      "execution_count": 130,
      "outputs": []
    },
    {
      "cell_type": "markdown",
      "source": [
        "## Part 2: building knowledge base around Airbnb listings data"
      ],
      "metadata": {
        "id": "wFQEIqxM_SNe"
      }
    },
    {
      "cell_type": "code",
      "source": [
        "from datasets import load_dataset\n",
        "import pandas as pd\n",
        "\n",
        "data = load_dataset(\"MongoDB/airbnb_embeddings\", split=\"train\", streaming=True)\n",
        "data = data.take(500)\n",
        "data_df = pd.DataFrame(data)\n",
        "data_df['address'].head()\n",
        "data_df = data_df.drop(columns=['text_embeddings'])"
      ],
      "metadata": {
        "colab": {
          "base_uri": "https://localhost:8080/",
          "height": 173,
          "referenced_widgets": [
            "44b60322a5dc4ed9958abb675db8c7be",
            "d8bbc84fbd3b49c4b620e3514e2b75e5",
            "062c4679303e4cbaadb632c219006895",
            "3d15af145c374d6c9d9617b25cb83338",
            "fc0112aea1654623ac464efa3f5244e4",
            "0dbfe1ec46a74acabbc0650c5a5ad9ba",
            "c5ffbca6a8704221bb85cfd2cf89301e",
            "439d2a0230184dacb88adc92bcc634e3",
            "3857412c265e44a4b04e997362b9b020",
            "7e72da5945ad49b1877beb495559b0f9",
            "ed5030a4d38c4ca2bb9c1595ab822b5c"
          ]
        },
        "id": "DqGbr4bO_PkP",
        "outputId": "4ef04e0d-da53-4e69-8c8b-73d5bbb77625"
      },
      "execution_count": 82,
      "outputs": [
        {
          "output_type": "stream",
          "name": "stderr",
          "text": [
            "/usr/local/lib/python3.11/dist-packages/huggingface_hub/utils/_auth.py:94: UserWarning: \n",
            "The secret `HF_TOKEN` does not exist in your Colab secrets.\n",
            "To authenticate with the Hugging Face Hub, create a token in your settings tab (https://huggingface.co/settings/tokens), set it as secret in your Google Colab and restart your session.\n",
            "You will be able to reuse this secret in all of your notebooks.\n",
            "Please note that authentication is recommended but still optional to access public models or datasets.\n",
            "  warnings.warn(\n"
          ]
        },
        {
          "output_type": "display_data",
          "data": {
            "text/plain": [
              "README.md:   0%|          | 0.00/4.84k [00:00<?, ?B/s]"
            ],
            "application/vnd.jupyter.widget-view+json": {
              "version_major": 2,
              "version_minor": 0,
              "model_id": "44b60322a5dc4ed9958abb675db8c7be"
            }
          },
          "metadata": {}
        }
      ]
    },
    {
      "cell_type": "code",
      "source": [
        "data_df.columns"
      ],
      "metadata": {
        "colab": {
          "base_uri": "https://localhost:8080/"
        },
        "id": "o97RIqaGKUPb",
        "outputId": "07b759bf-5ecc-49ab-e585-217fe73ab631"
      },
      "execution_count": 134,
      "outputs": [
        {
          "output_type": "execute_result",
          "data": {
            "text/plain": [
              "Index(['_id', 'listing_url', 'name', 'summary', 'space', 'description',\n",
              "       'neighborhood_overview', 'notes', 'transit', 'access', 'interaction',\n",
              "       'house_rules', 'property_type', 'room_type', 'bed_type',\n",
              "       'minimum_nights', 'maximum_nights', 'cancellation_policy',\n",
              "       'last_scraped', 'calendar_last_scraped', 'first_review', 'last_review',\n",
              "       'accommodates', 'bedrooms', 'beds', 'number_of_reviews', 'bathrooms',\n",
              "       'amenities', 'price', 'security_deposit', 'cleaning_fee',\n",
              "       'extra_people', 'guests_included', 'images', 'host', 'address',\n",
              "       'availability', 'review_scores', 'reviews', 'weekly_price',\n",
              "       'monthly_price', 'image_embeddings'],\n",
              "      dtype='object')"
            ]
          },
          "metadata": {},
          "execution_count": 134
        }
      ]
    },
    {
      "cell_type": "code",
      "source": [
        "import json\n",
        "\n",
        "data_json = data_df.to_json(orient='records')\n",
        "data_json_list = json.loads(data_json)\n",
        "\n",
        "import json\n",
        "from llama_index.core import Document\n",
        "from llama_index.core.schema import MetadataMode\n",
        "from llama_index.core.node_parser import SentenceSplitter\n",
        "from tqdm import tqdm\n",
        "\n",
        "llama_docs = list()\n",
        "\n",
        "for data_json in data_json_list:\n",
        "    for field in [\"amenities\", \"images\", \"host\", \"address\", \"availability\", \"review_scores\", \"reviews\", \"image_embeddings\"]:\n",
        "        data_json[field] = json.dumps(data_json[field])\n",
        "    llama_doc = Document(text = data_json[\"description\"],\n",
        "                      metadata = data_json,\n",
        "                      excluded_llm_metadata_keys = [\"_id\", \"transit\", \"minimum_nights\", \"maximum_nights\", \"cancellation_policy\", \"last_scraped\", \"calendar_last_scraped\", \"first_review\", \"last_review\", \"security_deposit\", \"cleaning_fee\", \"guests_included\", \"host\", \"availability\", \"reviews\", \"image_embeddings\"],\n",
        "                      excluded_embed_metadata_keys = [\"_id\", \"transit\", \"minimum_nights\", \"maximum_nights\", \"cancellation_policy\", \"last_scraped\", \"calendar_last_scraped\", \"first_review\", \"last_review\", \"security_deposit\", \"cleaning_fee\", \"guests_included\", \"host\", \"availability\", \"reviews\", \"image_embeddings\"],\n",
        "                      metadata_format = \"{key} => {value}\",\n",
        "                      text_format = \"metadata:{metadata_str}\\n---content:{content}\" )\n",
        "    llama_docs.append(llama_doc)\n"
      ],
      "metadata": {
        "id": "DCQE0z3i_7Cu"
      },
      "execution_count": 85,
      "outputs": []
    },
    {
      "cell_type": "code",
      "source": [
        "from llama_index.embeddings.openai import OpenAIEmbedding\n",
        "from llama_index.core import Settings\n",
        "from llama_index.llms.openai import OpenAI\n",
        "\n",
        "sentence_splitter = SentenceSplitter(chunk_size =5000, chunk_overlap =200)\n",
        "embed_model = OpenAIEmbedding(model='text-embedding-3-small', dimensions = 256, batch = 20)\n",
        "Settings.embed_model = embed_model\n",
        "sentence_nodes = sentence_splitter.get_nodes_from_documents(llama_docs)\n",
        "\n",
        "for node in sentence_nodes:\n",
        "    node_embed = embed_model.get_text_embedding(node.get_content(metadata_mode=MetadataMode.EMBED))\n",
        "    node.embedding = node_embed"
      ],
      "metadata": {
        "colab": {
          "base_uri": "https://localhost:8080/",
          "height": 428
        },
        "id": "LaxMvkx4AEG6",
        "outputId": "dfdd980a-1bd1-4cc9-ccd1-8eb9f35f02cf"
      },
      "execution_count": 89,
      "outputs": [
        {
          "output_type": "error",
          "ename": "KeyboardInterrupt",
          "evalue": "",
          "traceback": [
            "\u001b[0;31m---------------------------------------------------------------------------\u001b[0m",
            "\u001b[0;31mKeyboardInterrupt\u001b[0m                         Traceback (most recent call last)",
            "\u001b[0;32m<ipython-input-89-2d8b8b0e4eb3>\u001b[0m in \u001b[0;36m<cell line: 0>\u001b[0;34m()\u001b[0m\n\u001b[1;32m      9\u001b[0m \u001b[0;34m\u001b[0m\u001b[0m\n\u001b[1;32m     10\u001b[0m \u001b[0;32mfor\u001b[0m \u001b[0mnode\u001b[0m \u001b[0;32min\u001b[0m \u001b[0msentence_nodes\u001b[0m\u001b[0;34m:\u001b[0m\u001b[0;34m\u001b[0m\u001b[0;34m\u001b[0m\u001b[0m\n\u001b[0;32m---> 11\u001b[0;31m     \u001b[0mnode_embed\u001b[0m \u001b[0;34m=\u001b[0m \u001b[0membed_model\u001b[0m\u001b[0;34m.\u001b[0m\u001b[0mget_text_embedding\u001b[0m\u001b[0;34m(\u001b[0m\u001b[0mnode\u001b[0m\u001b[0;34m.\u001b[0m\u001b[0mget_content\u001b[0m\u001b[0;34m(\u001b[0m\u001b[0mmetadata_mode\u001b[0m\u001b[0;34m=\u001b[0m\u001b[0mMetadataMode\u001b[0m\u001b[0;34m.\u001b[0m\u001b[0mEMBED\u001b[0m\u001b[0;34m)\u001b[0m\u001b[0;34m)\u001b[0m\u001b[0;34m\u001b[0m\u001b[0;34m\u001b[0m\u001b[0m\n\u001b[0m\u001b[1;32m     12\u001b[0m     \u001b[0mnode\u001b[0m\u001b[0;34m.\u001b[0m\u001b[0membedding\u001b[0m \u001b[0;34m=\u001b[0m \u001b[0mnode_embed\u001b[0m\u001b[0;34m\u001b[0m\u001b[0;34m\u001b[0m\u001b[0m\n",
            "\u001b[0;32m/usr/local/lib/python3.11/dist-packages/llama_index/core/instrumentation/dispatcher.py\u001b[0m in \u001b[0;36mwrapper\u001b[0;34m(func, instance, args, kwargs)\u001b[0m\n\u001b[1;32m    319\u001b[0m \u001b[0;34m\u001b[0m\u001b[0m\n\u001b[1;32m    320\u001b[0m             \u001b[0;32mtry\u001b[0m\u001b[0;34m:\u001b[0m\u001b[0;34m\u001b[0m\u001b[0;34m\u001b[0m\u001b[0m\n\u001b[0;32m--> 321\u001b[0;31m                 \u001b[0mresult\u001b[0m \u001b[0;34m=\u001b[0m \u001b[0mfunc\u001b[0m\u001b[0;34m(\u001b[0m\u001b[0;34m*\u001b[0m\u001b[0margs\u001b[0m\u001b[0;34m,\u001b[0m \u001b[0;34m**\u001b[0m\u001b[0mkwargs\u001b[0m\u001b[0;34m)\u001b[0m\u001b[0;34m\u001b[0m\u001b[0;34m\u001b[0m\u001b[0m\n\u001b[0m\u001b[1;32m    322\u001b[0m                 \u001b[0;32mif\u001b[0m \u001b[0misinstance\u001b[0m\u001b[0;34m(\u001b[0m\u001b[0mresult\u001b[0m\u001b[0;34m,\u001b[0m \u001b[0masyncio\u001b[0m\u001b[0;34m.\u001b[0m\u001b[0mFuture\u001b[0m\u001b[0;34m)\u001b[0m\u001b[0;34m:\u001b[0m\u001b[0;34m\u001b[0m\u001b[0;34m\u001b[0m\u001b[0m\n\u001b[1;32m    323\u001b[0m                     \u001b[0;31m# If the result is a Future, wrap it\u001b[0m\u001b[0;34m\u001b[0m\u001b[0;34m\u001b[0m\u001b[0m\n",
            "\u001b[0;32m/usr/local/lib/python3.11/dist-packages/llama_index/core/base/embeddings/base.py\u001b[0m in \u001b[0;36mget_text_embedding\u001b[0;34m(self, text)\u001b[0m\n\u001b[1;32m    258\u001b[0m             \u001b[0mCBEventType\u001b[0m\u001b[0;34m.\u001b[0m\u001b[0mEMBEDDING\u001b[0m\u001b[0;34m,\u001b[0m \u001b[0mpayload\u001b[0m\u001b[0;34m=\u001b[0m\u001b[0;34m{\u001b[0m\u001b[0mEventPayload\u001b[0m\u001b[0;34m.\u001b[0m\u001b[0mSERIALIZED\u001b[0m\u001b[0;34m:\u001b[0m \u001b[0mself\u001b[0m\u001b[0;34m.\u001b[0m\u001b[0mto_dict\u001b[0m\u001b[0;34m(\u001b[0m\u001b[0;34m)\u001b[0m\u001b[0;34m}\u001b[0m\u001b[0;34m\u001b[0m\u001b[0;34m\u001b[0m\u001b[0m\n\u001b[1;32m    259\u001b[0m         ) as event:\n\u001b[0;32m--> 260\u001b[0;31m             \u001b[0mtext_embedding\u001b[0m \u001b[0;34m=\u001b[0m \u001b[0mself\u001b[0m\u001b[0;34m.\u001b[0m\u001b[0m_get_text_embedding\u001b[0m\u001b[0;34m(\u001b[0m\u001b[0mtext\u001b[0m\u001b[0;34m)\u001b[0m\u001b[0;34m\u001b[0m\u001b[0;34m\u001b[0m\u001b[0m\n\u001b[0m\u001b[1;32m    261\u001b[0m \u001b[0;34m\u001b[0m\u001b[0m\n\u001b[1;32m    262\u001b[0m             event.on_end(\n",
            "\u001b[0;32m/usr/local/lib/python3.11/dist-packages/llama_index/core/instrumentation/dispatcher.py\u001b[0m in \u001b[0;36mwrapper\u001b[0;34m(func, instance, args, kwargs)\u001b[0m\n\u001b[1;32m    319\u001b[0m \u001b[0;34m\u001b[0m\u001b[0m\n\u001b[1;32m    320\u001b[0m             \u001b[0;32mtry\u001b[0m\u001b[0;34m:\u001b[0m\u001b[0;34m\u001b[0m\u001b[0;34m\u001b[0m\u001b[0m\n\u001b[0;32m--> 321\u001b[0;31m                 \u001b[0mresult\u001b[0m \u001b[0;34m=\u001b[0m \u001b[0mfunc\u001b[0m\u001b[0;34m(\u001b[0m\u001b[0;34m*\u001b[0m\u001b[0margs\u001b[0m\u001b[0;34m,\u001b[0m \u001b[0;34m**\u001b[0m\u001b[0mkwargs\u001b[0m\u001b[0;34m)\u001b[0m\u001b[0;34m\u001b[0m\u001b[0;34m\u001b[0m\u001b[0m\n\u001b[0m\u001b[1;32m    322\u001b[0m                 \u001b[0;32mif\u001b[0m \u001b[0misinstance\u001b[0m\u001b[0;34m(\u001b[0m\u001b[0mresult\u001b[0m\u001b[0;34m,\u001b[0m \u001b[0masyncio\u001b[0m\u001b[0;34m.\u001b[0m\u001b[0mFuture\u001b[0m\u001b[0;34m)\u001b[0m\u001b[0;34m:\u001b[0m\u001b[0;34m\u001b[0m\u001b[0;34m\u001b[0m\u001b[0m\n\u001b[1;32m    323\u001b[0m                     \u001b[0;31m# If the result is a Future, wrap it\u001b[0m\u001b[0;34m\u001b[0m\u001b[0;34m\u001b[0m\u001b[0m\n",
            "\u001b[0;32m/usr/local/lib/python3.11/dist-packages/llama_index/embeddings/openai/base.py\u001b[0m in \u001b[0;36m_get_text_embedding\u001b[0;34m(self, text)\u001b[0m\n\u001b[1;32m    426\u001b[0m             )\n\u001b[1;32m    427\u001b[0m \u001b[0;34m\u001b[0m\u001b[0m\n\u001b[0;32m--> 428\u001b[0;31m         \u001b[0;32mreturn\u001b[0m \u001b[0m_retryable_get_embedding\u001b[0m\u001b[0;34m(\u001b[0m\u001b[0;34m)\u001b[0m\u001b[0;34m\u001b[0m\u001b[0;34m\u001b[0m\u001b[0m\n\u001b[0m\u001b[1;32m    429\u001b[0m \u001b[0;34m\u001b[0m\u001b[0m\n\u001b[1;32m    430\u001b[0m     \u001b[0;32masync\u001b[0m \u001b[0;32mdef\u001b[0m \u001b[0m_aget_text_embedding\u001b[0m\u001b[0;34m(\u001b[0m\u001b[0mself\u001b[0m\u001b[0;34m,\u001b[0m \u001b[0mtext\u001b[0m\u001b[0;34m:\u001b[0m \u001b[0mstr\u001b[0m\u001b[0;34m)\u001b[0m \u001b[0;34m->\u001b[0m \u001b[0mList\u001b[0m\u001b[0;34m[\u001b[0m\u001b[0mfloat\u001b[0m\u001b[0;34m]\u001b[0m\u001b[0;34m:\u001b[0m\u001b[0;34m\u001b[0m\u001b[0;34m\u001b[0m\u001b[0m\n",
            "\u001b[0;32m/usr/local/lib/python3.11/dist-packages/tenacity/__init__.py\u001b[0m in \u001b[0;36mwrapped_f\u001b[0;34m(*args, **kw)\u001b[0m\n\u001b[1;32m    334\u001b[0m             \u001b[0mcopy\u001b[0m \u001b[0;34m=\u001b[0m \u001b[0mself\u001b[0m\u001b[0;34m.\u001b[0m\u001b[0mcopy\u001b[0m\u001b[0;34m(\u001b[0m\u001b[0;34m)\u001b[0m\u001b[0;34m\u001b[0m\u001b[0;34m\u001b[0m\u001b[0m\n\u001b[1;32m    335\u001b[0m             \u001b[0mwrapped_f\u001b[0m\u001b[0;34m.\u001b[0m\u001b[0mstatistics\u001b[0m \u001b[0;34m=\u001b[0m \u001b[0mcopy\u001b[0m\u001b[0;34m.\u001b[0m\u001b[0mstatistics\u001b[0m  \u001b[0;31m# type: ignore[attr-defined]\u001b[0m\u001b[0;34m\u001b[0m\u001b[0;34m\u001b[0m\u001b[0m\n\u001b[0;32m--> 336\u001b[0;31m             \u001b[0;32mreturn\u001b[0m \u001b[0mcopy\u001b[0m\u001b[0;34m(\u001b[0m\u001b[0mf\u001b[0m\u001b[0;34m,\u001b[0m \u001b[0;34m*\u001b[0m\u001b[0margs\u001b[0m\u001b[0;34m,\u001b[0m \u001b[0;34m**\u001b[0m\u001b[0mkw\u001b[0m\u001b[0;34m)\u001b[0m\u001b[0;34m\u001b[0m\u001b[0;34m\u001b[0m\u001b[0m\n\u001b[0m\u001b[1;32m    337\u001b[0m \u001b[0;34m\u001b[0m\u001b[0m\n\u001b[1;32m    338\u001b[0m         \u001b[0;32mdef\u001b[0m \u001b[0mretry_with\u001b[0m\u001b[0;34m(\u001b[0m\u001b[0;34m*\u001b[0m\u001b[0margs\u001b[0m\u001b[0;34m:\u001b[0m \u001b[0mt\u001b[0m\u001b[0;34m.\u001b[0m\u001b[0mAny\u001b[0m\u001b[0;34m,\u001b[0m \u001b[0;34m**\u001b[0m\u001b[0mkwargs\u001b[0m\u001b[0;34m:\u001b[0m \u001b[0mt\u001b[0m\u001b[0;34m.\u001b[0m\u001b[0mAny\u001b[0m\u001b[0;34m)\u001b[0m \u001b[0;34m->\u001b[0m \u001b[0mWrappedFn\u001b[0m\u001b[0;34m:\u001b[0m\u001b[0;34m\u001b[0m\u001b[0;34m\u001b[0m\u001b[0m\n",
            "\u001b[0;32m/usr/local/lib/python3.11/dist-packages/tenacity/__init__.py\u001b[0m in \u001b[0;36m__call__\u001b[0;34m(self, fn, *args, **kwargs)\u001b[0m\n\u001b[1;32m    473\u001b[0m         \u001b[0mretry_state\u001b[0m \u001b[0;34m=\u001b[0m \u001b[0mRetryCallState\u001b[0m\u001b[0;34m(\u001b[0m\u001b[0mretry_object\u001b[0m\u001b[0;34m=\u001b[0m\u001b[0mself\u001b[0m\u001b[0;34m,\u001b[0m \u001b[0mfn\u001b[0m\u001b[0;34m=\u001b[0m\u001b[0mfn\u001b[0m\u001b[0;34m,\u001b[0m \u001b[0margs\u001b[0m\u001b[0;34m=\u001b[0m\u001b[0margs\u001b[0m\u001b[0;34m,\u001b[0m \u001b[0mkwargs\u001b[0m\u001b[0;34m=\u001b[0m\u001b[0mkwargs\u001b[0m\u001b[0;34m)\u001b[0m\u001b[0;34m\u001b[0m\u001b[0;34m\u001b[0m\u001b[0m\n\u001b[1;32m    474\u001b[0m         \u001b[0;32mwhile\u001b[0m \u001b[0;32mTrue\u001b[0m\u001b[0;34m:\u001b[0m\u001b[0;34m\u001b[0m\u001b[0;34m\u001b[0m\u001b[0m\n\u001b[0;32m--> 475\u001b[0;31m             \u001b[0mdo\u001b[0m \u001b[0;34m=\u001b[0m \u001b[0mself\u001b[0m\u001b[0;34m.\u001b[0m\u001b[0miter\u001b[0m\u001b[0;34m(\u001b[0m\u001b[0mretry_state\u001b[0m\u001b[0;34m=\u001b[0m\u001b[0mretry_state\u001b[0m\u001b[0;34m)\u001b[0m\u001b[0;34m\u001b[0m\u001b[0;34m\u001b[0m\u001b[0m\n\u001b[0m\u001b[1;32m    476\u001b[0m             \u001b[0;32mif\u001b[0m \u001b[0misinstance\u001b[0m\u001b[0;34m(\u001b[0m\u001b[0mdo\u001b[0m\u001b[0;34m,\u001b[0m \u001b[0mDoAttempt\u001b[0m\u001b[0;34m)\u001b[0m\u001b[0;34m:\u001b[0m\u001b[0;34m\u001b[0m\u001b[0;34m\u001b[0m\u001b[0m\n\u001b[1;32m    477\u001b[0m                 \u001b[0;32mtry\u001b[0m\u001b[0;34m:\u001b[0m\u001b[0;34m\u001b[0m\u001b[0;34m\u001b[0m\u001b[0m\n",
            "\u001b[0;32m/usr/local/lib/python3.11/dist-packages/tenacity/__init__.py\u001b[0m in \u001b[0;36miter\u001b[0;34m(self, retry_state)\u001b[0m\n\u001b[1;32m    374\u001b[0m         \u001b[0mresult\u001b[0m \u001b[0;34m=\u001b[0m \u001b[0;32mNone\u001b[0m\u001b[0;34m\u001b[0m\u001b[0;34m\u001b[0m\u001b[0m\n\u001b[1;32m    375\u001b[0m         \u001b[0;32mfor\u001b[0m \u001b[0maction\u001b[0m \u001b[0;32min\u001b[0m \u001b[0mself\u001b[0m\u001b[0;34m.\u001b[0m\u001b[0miter_state\u001b[0m\u001b[0;34m.\u001b[0m\u001b[0mactions\u001b[0m\u001b[0;34m:\u001b[0m\u001b[0;34m\u001b[0m\u001b[0;34m\u001b[0m\u001b[0m\n\u001b[0;32m--> 376\u001b[0;31m             \u001b[0mresult\u001b[0m \u001b[0;34m=\u001b[0m \u001b[0maction\u001b[0m\u001b[0;34m(\u001b[0m\u001b[0mretry_state\u001b[0m\u001b[0;34m)\u001b[0m\u001b[0;34m\u001b[0m\u001b[0;34m\u001b[0m\u001b[0m\n\u001b[0m\u001b[1;32m    377\u001b[0m         \u001b[0;32mreturn\u001b[0m \u001b[0mresult\u001b[0m\u001b[0;34m\u001b[0m\u001b[0;34m\u001b[0m\u001b[0m\n\u001b[1;32m    378\u001b[0m \u001b[0;34m\u001b[0m\u001b[0m\n",
            "\u001b[0;32m/usr/local/lib/python3.11/dist-packages/tenacity/__init__.py\u001b[0m in \u001b[0;36m<lambda>\u001b[0;34m(rs)\u001b[0m\n\u001b[1;32m    396\u001b[0m     \u001b[0;32mdef\u001b[0m \u001b[0m_post_retry_check_actions\u001b[0m\u001b[0;34m(\u001b[0m\u001b[0mself\u001b[0m\u001b[0;34m,\u001b[0m \u001b[0mretry_state\u001b[0m\u001b[0;34m:\u001b[0m \u001b[0;34m\"RetryCallState\"\u001b[0m\u001b[0;34m)\u001b[0m \u001b[0;34m->\u001b[0m \u001b[0;32mNone\u001b[0m\u001b[0;34m:\u001b[0m\u001b[0;34m\u001b[0m\u001b[0;34m\u001b[0m\u001b[0m\n\u001b[1;32m    397\u001b[0m         \u001b[0;32mif\u001b[0m \u001b[0;32mnot\u001b[0m \u001b[0;34m(\u001b[0m\u001b[0mself\u001b[0m\u001b[0;34m.\u001b[0m\u001b[0miter_state\u001b[0m\u001b[0;34m.\u001b[0m\u001b[0mis_explicit_retry\u001b[0m \u001b[0;32mor\u001b[0m \u001b[0mself\u001b[0m\u001b[0;34m.\u001b[0m\u001b[0miter_state\u001b[0m\u001b[0;34m.\u001b[0m\u001b[0mretry_run_result\u001b[0m\u001b[0;34m)\u001b[0m\u001b[0;34m:\u001b[0m\u001b[0;34m\u001b[0m\u001b[0;34m\u001b[0m\u001b[0m\n\u001b[0;32m--> 398\u001b[0;31m             \u001b[0mself\u001b[0m\u001b[0;34m.\u001b[0m\u001b[0m_add_action_func\u001b[0m\u001b[0;34m(\u001b[0m\u001b[0;32mlambda\u001b[0m \u001b[0mrs\u001b[0m\u001b[0;34m:\u001b[0m \u001b[0mrs\u001b[0m\u001b[0;34m.\u001b[0m\u001b[0moutcome\u001b[0m\u001b[0;34m.\u001b[0m\u001b[0mresult\u001b[0m\u001b[0;34m(\u001b[0m\u001b[0;34m)\u001b[0m\u001b[0;34m)\u001b[0m\u001b[0;34m\u001b[0m\u001b[0;34m\u001b[0m\u001b[0m\n\u001b[0m\u001b[1;32m    399\u001b[0m             \u001b[0;32mreturn\u001b[0m\u001b[0;34m\u001b[0m\u001b[0;34m\u001b[0m\u001b[0m\n\u001b[1;32m    400\u001b[0m \u001b[0;34m\u001b[0m\u001b[0m\n",
            "\u001b[0;32m/usr/lib/python3.11/concurrent/futures/_base.py\u001b[0m in \u001b[0;36mresult\u001b[0;34m(self, timeout)\u001b[0m\n\u001b[1;32m    447\u001b[0m                     \u001b[0;32mraise\u001b[0m \u001b[0mCancelledError\u001b[0m\u001b[0;34m(\u001b[0m\u001b[0;34m)\u001b[0m\u001b[0;34m\u001b[0m\u001b[0;34m\u001b[0m\u001b[0m\n\u001b[1;32m    448\u001b[0m                 \u001b[0;32melif\u001b[0m \u001b[0mself\u001b[0m\u001b[0;34m.\u001b[0m\u001b[0m_state\u001b[0m \u001b[0;34m==\u001b[0m \u001b[0mFINISHED\u001b[0m\u001b[0;34m:\u001b[0m\u001b[0;34m\u001b[0m\u001b[0;34m\u001b[0m\u001b[0m\n\u001b[0;32m--> 449\u001b[0;31m                     \u001b[0;32mreturn\u001b[0m \u001b[0mself\u001b[0m\u001b[0;34m.\u001b[0m\u001b[0m__get_result\u001b[0m\u001b[0;34m(\u001b[0m\u001b[0;34m)\u001b[0m\u001b[0;34m\u001b[0m\u001b[0;34m\u001b[0m\u001b[0m\n\u001b[0m\u001b[1;32m    450\u001b[0m \u001b[0;34m\u001b[0m\u001b[0m\n\u001b[1;32m    451\u001b[0m                 \u001b[0mself\u001b[0m\u001b[0;34m.\u001b[0m\u001b[0m_condition\u001b[0m\u001b[0;34m.\u001b[0m\u001b[0mwait\u001b[0m\u001b[0;34m(\u001b[0m\u001b[0mtimeout\u001b[0m\u001b[0;34m)\u001b[0m\u001b[0;34m\u001b[0m\u001b[0;34m\u001b[0m\u001b[0m\n",
            "\u001b[0;32m/usr/lib/python3.11/concurrent/futures/_base.py\u001b[0m in \u001b[0;36m__get_result\u001b[0;34m(self)\u001b[0m\n\u001b[1;32m    399\u001b[0m         \u001b[0;32mif\u001b[0m \u001b[0mself\u001b[0m\u001b[0;34m.\u001b[0m\u001b[0m_exception\u001b[0m\u001b[0;34m:\u001b[0m\u001b[0;34m\u001b[0m\u001b[0;34m\u001b[0m\u001b[0m\n\u001b[1;32m    400\u001b[0m             \u001b[0;32mtry\u001b[0m\u001b[0;34m:\u001b[0m\u001b[0;34m\u001b[0m\u001b[0;34m\u001b[0m\u001b[0m\n\u001b[0;32m--> 401\u001b[0;31m                 \u001b[0;32mraise\u001b[0m \u001b[0mself\u001b[0m\u001b[0;34m.\u001b[0m\u001b[0m_exception\u001b[0m\u001b[0;34m\u001b[0m\u001b[0;34m\u001b[0m\u001b[0m\n\u001b[0m\u001b[1;32m    402\u001b[0m             \u001b[0;32mfinally\u001b[0m\u001b[0;34m:\u001b[0m\u001b[0;34m\u001b[0m\u001b[0;34m\u001b[0m\u001b[0m\n\u001b[1;32m    403\u001b[0m                 \u001b[0;31m# Break a reference cycle with the exception in self._exception\u001b[0m\u001b[0;34m\u001b[0m\u001b[0;34m\u001b[0m\u001b[0m\n",
            "\u001b[0;32m/usr/local/lib/python3.11/dist-packages/tenacity/__init__.py\u001b[0m in \u001b[0;36m__call__\u001b[0;34m(self, fn, *args, **kwargs)\u001b[0m\n\u001b[1;32m    476\u001b[0m             \u001b[0;32mif\u001b[0m \u001b[0misinstance\u001b[0m\u001b[0;34m(\u001b[0m\u001b[0mdo\u001b[0m\u001b[0;34m,\u001b[0m \u001b[0mDoAttempt\u001b[0m\u001b[0;34m)\u001b[0m\u001b[0;34m:\u001b[0m\u001b[0;34m\u001b[0m\u001b[0;34m\u001b[0m\u001b[0m\n\u001b[1;32m    477\u001b[0m                 \u001b[0;32mtry\u001b[0m\u001b[0;34m:\u001b[0m\u001b[0;34m\u001b[0m\u001b[0;34m\u001b[0m\u001b[0m\n\u001b[0;32m--> 478\u001b[0;31m                     \u001b[0mresult\u001b[0m \u001b[0;34m=\u001b[0m \u001b[0mfn\u001b[0m\u001b[0;34m(\u001b[0m\u001b[0;34m*\u001b[0m\u001b[0margs\u001b[0m\u001b[0;34m,\u001b[0m \u001b[0;34m**\u001b[0m\u001b[0mkwargs\u001b[0m\u001b[0;34m)\u001b[0m\u001b[0;34m\u001b[0m\u001b[0;34m\u001b[0m\u001b[0m\n\u001b[0m\u001b[1;32m    479\u001b[0m                 \u001b[0;32mexcept\u001b[0m \u001b[0mBaseException\u001b[0m\u001b[0;34m:\u001b[0m  \u001b[0;31m# noqa: B902\u001b[0m\u001b[0;34m\u001b[0m\u001b[0;34m\u001b[0m\u001b[0m\n\u001b[1;32m    480\u001b[0m                     \u001b[0mretry_state\u001b[0m\u001b[0;34m.\u001b[0m\u001b[0mset_exception\u001b[0m\u001b[0;34m(\u001b[0m\u001b[0msys\u001b[0m\u001b[0;34m.\u001b[0m\u001b[0mexc_info\u001b[0m\u001b[0;34m(\u001b[0m\u001b[0;34m)\u001b[0m\u001b[0;34m)\u001b[0m  \u001b[0;31m# type: ignore[arg-type]\u001b[0m\u001b[0;34m\u001b[0m\u001b[0;34m\u001b[0m\u001b[0m\n",
            "\u001b[0;32m/usr/local/lib/python3.11/dist-packages/llama_index/embeddings/openai/base.py\u001b[0m in \u001b[0;36m_retryable_get_embedding\u001b[0;34m()\u001b[0m\n\u001b[1;32m    419\u001b[0m         \u001b[0;34m@\u001b[0m\u001b[0mretry_decorator\u001b[0m\u001b[0;34m\u001b[0m\u001b[0;34m\u001b[0m\u001b[0m\n\u001b[1;32m    420\u001b[0m         \u001b[0;32mdef\u001b[0m \u001b[0m_retryable_get_embedding\u001b[0m\u001b[0;34m(\u001b[0m\u001b[0;34m)\u001b[0m\u001b[0;34m:\u001b[0m\u001b[0;34m\u001b[0m\u001b[0;34m\u001b[0m\u001b[0m\n\u001b[0;32m--> 421\u001b[0;31m             return get_embedding(\n\u001b[0m\u001b[1;32m    422\u001b[0m                 \u001b[0mclient\u001b[0m\u001b[0;34m,\u001b[0m\u001b[0;34m\u001b[0m\u001b[0;34m\u001b[0m\u001b[0m\n\u001b[1;32m    423\u001b[0m                 \u001b[0mtext\u001b[0m\u001b[0;34m,\u001b[0m\u001b[0;34m\u001b[0m\u001b[0;34m\u001b[0m\u001b[0m\n",
            "\u001b[0;32m/usr/local/lib/python3.11/dist-packages/llama_index/embeddings/openai/base.py\u001b[0m in \u001b[0;36mget_embedding\u001b[0;34m(client, text, engine, **kwargs)\u001b[0m\n\u001b[1;32m    126\u001b[0m \u001b[0;34m\u001b[0m\u001b[0m\n\u001b[1;32m    127\u001b[0m     return (\n\u001b[0;32m--> 128\u001b[0;31m         \u001b[0mclient\u001b[0m\u001b[0;34m.\u001b[0m\u001b[0membeddings\u001b[0m\u001b[0;34m.\u001b[0m\u001b[0mcreate\u001b[0m\u001b[0;34m(\u001b[0m\u001b[0minput\u001b[0m\u001b[0;34m=\u001b[0m\u001b[0;34m[\u001b[0m\u001b[0mtext\u001b[0m\u001b[0;34m]\u001b[0m\u001b[0;34m,\u001b[0m \u001b[0mmodel\u001b[0m\u001b[0;34m=\u001b[0m\u001b[0mengine\u001b[0m\u001b[0;34m,\u001b[0m \u001b[0;34m**\u001b[0m\u001b[0mkwargs\u001b[0m\u001b[0;34m)\u001b[0m\u001b[0;34m.\u001b[0m\u001b[0mdata\u001b[0m\u001b[0;34m[\u001b[0m\u001b[0;36m0\u001b[0m\u001b[0;34m]\u001b[0m\u001b[0;34m.\u001b[0m\u001b[0membedding\u001b[0m\u001b[0;34m\u001b[0m\u001b[0;34m\u001b[0m\u001b[0m\n\u001b[0m\u001b[1;32m    129\u001b[0m     )\n\u001b[1;32m    130\u001b[0m \u001b[0;34m\u001b[0m\u001b[0m\n",
            "\u001b[0;32m/usr/local/lib/python3.11/dist-packages/openai/resources/embeddings.py\u001b[0m in \u001b[0;36mcreate\u001b[0;34m(self, input, model, dimensions, encoding_format, user, extra_headers, extra_query, extra_body, timeout)\u001b[0m\n\u001b[1;32m    123\u001b[0m             \u001b[0;32mreturn\u001b[0m \u001b[0mobj\u001b[0m\u001b[0;34m\u001b[0m\u001b[0;34m\u001b[0m\u001b[0m\n\u001b[1;32m    124\u001b[0m \u001b[0;34m\u001b[0m\u001b[0m\n\u001b[0;32m--> 125\u001b[0;31m         return self._post(\n\u001b[0m\u001b[1;32m    126\u001b[0m             \u001b[0;34m\"/embeddings\"\u001b[0m\u001b[0;34m,\u001b[0m\u001b[0;34m\u001b[0m\u001b[0;34m\u001b[0m\u001b[0m\n\u001b[1;32m    127\u001b[0m             \u001b[0mbody\u001b[0m\u001b[0;34m=\u001b[0m\u001b[0mmaybe_transform\u001b[0m\u001b[0;34m(\u001b[0m\u001b[0mparams\u001b[0m\u001b[0;34m,\u001b[0m \u001b[0membedding_create_params\u001b[0m\u001b[0;34m.\u001b[0m\u001b[0mEmbeddingCreateParams\u001b[0m\u001b[0;34m)\u001b[0m\u001b[0;34m,\u001b[0m\u001b[0;34m\u001b[0m\u001b[0;34m\u001b[0m\u001b[0m\n",
            "\u001b[0;32m/usr/local/lib/python3.11/dist-packages/openai/_base_client.py\u001b[0m in \u001b[0;36mpost\u001b[0;34m(self, path, cast_to, body, options, files, stream, stream_cls)\u001b[0m\n\u001b[1;32m   1281\u001b[0m             \u001b[0mmethod\u001b[0m\u001b[0;34m=\u001b[0m\u001b[0;34m\"post\"\u001b[0m\u001b[0;34m,\u001b[0m \u001b[0murl\u001b[0m\u001b[0;34m=\u001b[0m\u001b[0mpath\u001b[0m\u001b[0;34m,\u001b[0m \u001b[0mjson_data\u001b[0m\u001b[0;34m=\u001b[0m\u001b[0mbody\u001b[0m\u001b[0;34m,\u001b[0m \u001b[0mfiles\u001b[0m\u001b[0;34m=\u001b[0m\u001b[0mto_httpx_files\u001b[0m\u001b[0;34m(\u001b[0m\u001b[0mfiles\u001b[0m\u001b[0;34m)\u001b[0m\u001b[0;34m,\u001b[0m \u001b[0;34m**\u001b[0m\u001b[0moptions\u001b[0m\u001b[0;34m\u001b[0m\u001b[0;34m\u001b[0m\u001b[0m\n\u001b[1;32m   1282\u001b[0m         )\n\u001b[0;32m-> 1283\u001b[0;31m         \u001b[0;32mreturn\u001b[0m \u001b[0mcast\u001b[0m\u001b[0;34m(\u001b[0m\u001b[0mResponseT\u001b[0m\u001b[0;34m,\u001b[0m \u001b[0mself\u001b[0m\u001b[0;34m.\u001b[0m\u001b[0mrequest\u001b[0m\u001b[0;34m(\u001b[0m\u001b[0mcast_to\u001b[0m\u001b[0;34m,\u001b[0m \u001b[0mopts\u001b[0m\u001b[0;34m,\u001b[0m \u001b[0mstream\u001b[0m\u001b[0;34m=\u001b[0m\u001b[0mstream\u001b[0m\u001b[0;34m,\u001b[0m \u001b[0mstream_cls\u001b[0m\u001b[0;34m=\u001b[0m\u001b[0mstream_cls\u001b[0m\u001b[0;34m)\u001b[0m\u001b[0;34m)\u001b[0m\u001b[0;34m\u001b[0m\u001b[0;34m\u001b[0m\u001b[0m\n\u001b[0m\u001b[1;32m   1284\u001b[0m \u001b[0;34m\u001b[0m\u001b[0m\n\u001b[1;32m   1285\u001b[0m     def patch(\n",
            "\u001b[0;32m/usr/local/lib/python3.11/dist-packages/openai/_base_client.py\u001b[0m in \u001b[0;36mrequest\u001b[0;34m(self, cast_to, options, remaining_retries, stream, stream_cls)\u001b[0m\n\u001b[1;32m    958\u001b[0m             \u001b[0mretries_taken\u001b[0m \u001b[0;34m=\u001b[0m \u001b[0;36m0\u001b[0m\u001b[0;34m\u001b[0m\u001b[0;34m\u001b[0m\u001b[0m\n\u001b[1;32m    959\u001b[0m \u001b[0;34m\u001b[0m\u001b[0m\n\u001b[0;32m--> 960\u001b[0;31m         return self._request(\n\u001b[0m\u001b[1;32m    961\u001b[0m             \u001b[0mcast_to\u001b[0m\u001b[0;34m=\u001b[0m\u001b[0mcast_to\u001b[0m\u001b[0;34m,\u001b[0m\u001b[0;34m\u001b[0m\u001b[0;34m\u001b[0m\u001b[0m\n\u001b[1;32m    962\u001b[0m             \u001b[0moptions\u001b[0m\u001b[0;34m=\u001b[0m\u001b[0moptions\u001b[0m\u001b[0;34m,\u001b[0m\u001b[0;34m\u001b[0m\u001b[0;34m\u001b[0m\u001b[0m\n",
            "\u001b[0;32m/usr/local/lib/python3.11/dist-packages/openai/_base_client.py\u001b[0m in \u001b[0;36m_request\u001b[0;34m(self, cast_to, options, retries_taken, stream, stream_cls)\u001b[0m\n\u001b[1;32m    994\u001b[0m \u001b[0;34m\u001b[0m\u001b[0m\n\u001b[1;32m    995\u001b[0m         \u001b[0;32mtry\u001b[0m\u001b[0;34m:\u001b[0m\u001b[0;34m\u001b[0m\u001b[0;34m\u001b[0m\u001b[0m\n\u001b[0;32m--> 996\u001b[0;31m             response = self._client.send(\n\u001b[0m\u001b[1;32m    997\u001b[0m                 \u001b[0mrequest\u001b[0m\u001b[0;34m,\u001b[0m\u001b[0;34m\u001b[0m\u001b[0;34m\u001b[0m\u001b[0m\n\u001b[1;32m    998\u001b[0m                 \u001b[0mstream\u001b[0m\u001b[0;34m=\u001b[0m\u001b[0mstream\u001b[0m \u001b[0;32mor\u001b[0m \u001b[0mself\u001b[0m\u001b[0;34m.\u001b[0m\u001b[0m_should_stream_response_body\u001b[0m\u001b[0;34m(\u001b[0m\u001b[0mrequest\u001b[0m\u001b[0;34m=\u001b[0m\u001b[0mrequest\u001b[0m\u001b[0;34m)\u001b[0m\u001b[0;34m,\u001b[0m\u001b[0;34m\u001b[0m\u001b[0;34m\u001b[0m\u001b[0m\n",
            "\u001b[0;32m/usr/local/lib/python3.11/dist-packages/httpx/_client.py\u001b[0m in \u001b[0;36msend\u001b[0;34m(self, request, stream, auth, follow_redirects)\u001b[0m\n\u001b[1;32m    912\u001b[0m         \u001b[0mauth\u001b[0m \u001b[0;34m=\u001b[0m \u001b[0mself\u001b[0m\u001b[0;34m.\u001b[0m\u001b[0m_build_request_auth\u001b[0m\u001b[0;34m(\u001b[0m\u001b[0mrequest\u001b[0m\u001b[0;34m,\u001b[0m \u001b[0mauth\u001b[0m\u001b[0;34m)\u001b[0m\u001b[0;34m\u001b[0m\u001b[0;34m\u001b[0m\u001b[0m\n\u001b[1;32m    913\u001b[0m \u001b[0;34m\u001b[0m\u001b[0m\n\u001b[0;32m--> 914\u001b[0;31m         response = self._send_handling_auth(\n\u001b[0m\u001b[1;32m    915\u001b[0m             \u001b[0mrequest\u001b[0m\u001b[0;34m,\u001b[0m\u001b[0;34m\u001b[0m\u001b[0;34m\u001b[0m\u001b[0m\n\u001b[1;32m    916\u001b[0m             \u001b[0mauth\u001b[0m\u001b[0;34m=\u001b[0m\u001b[0mauth\u001b[0m\u001b[0;34m,\u001b[0m\u001b[0;34m\u001b[0m\u001b[0;34m\u001b[0m\u001b[0m\n",
            "\u001b[0;32m/usr/local/lib/python3.11/dist-packages/httpx/_client.py\u001b[0m in \u001b[0;36m_send_handling_auth\u001b[0;34m(self, request, auth, follow_redirects, history)\u001b[0m\n\u001b[1;32m    940\u001b[0m \u001b[0;34m\u001b[0m\u001b[0m\n\u001b[1;32m    941\u001b[0m             \u001b[0;32mwhile\u001b[0m \u001b[0;32mTrue\u001b[0m\u001b[0;34m:\u001b[0m\u001b[0;34m\u001b[0m\u001b[0;34m\u001b[0m\u001b[0m\n\u001b[0;32m--> 942\u001b[0;31m                 response = self._send_handling_redirects(\n\u001b[0m\u001b[1;32m    943\u001b[0m                     \u001b[0mrequest\u001b[0m\u001b[0;34m,\u001b[0m\u001b[0;34m\u001b[0m\u001b[0;34m\u001b[0m\u001b[0m\n\u001b[1;32m    944\u001b[0m                     \u001b[0mfollow_redirects\u001b[0m\u001b[0;34m=\u001b[0m\u001b[0mfollow_redirects\u001b[0m\u001b[0;34m,\u001b[0m\u001b[0;34m\u001b[0m\u001b[0;34m\u001b[0m\u001b[0m\n",
            "\u001b[0;32m/usr/local/lib/python3.11/dist-packages/httpx/_client.py\u001b[0m in \u001b[0;36m_send_handling_redirects\u001b[0;34m(self, request, follow_redirects, history)\u001b[0m\n\u001b[1;32m    977\u001b[0m                 \u001b[0mhook\u001b[0m\u001b[0;34m(\u001b[0m\u001b[0mrequest\u001b[0m\u001b[0;34m)\u001b[0m\u001b[0;34m\u001b[0m\u001b[0;34m\u001b[0m\u001b[0m\n\u001b[1;32m    978\u001b[0m \u001b[0;34m\u001b[0m\u001b[0m\n\u001b[0;32m--> 979\u001b[0;31m             \u001b[0mresponse\u001b[0m \u001b[0;34m=\u001b[0m \u001b[0mself\u001b[0m\u001b[0;34m.\u001b[0m\u001b[0m_send_single_request\u001b[0m\u001b[0;34m(\u001b[0m\u001b[0mrequest\u001b[0m\u001b[0;34m)\u001b[0m\u001b[0;34m\u001b[0m\u001b[0;34m\u001b[0m\u001b[0m\n\u001b[0m\u001b[1;32m    980\u001b[0m             \u001b[0;32mtry\u001b[0m\u001b[0;34m:\u001b[0m\u001b[0;34m\u001b[0m\u001b[0;34m\u001b[0m\u001b[0m\n\u001b[1;32m    981\u001b[0m                 \u001b[0;32mfor\u001b[0m \u001b[0mhook\u001b[0m \u001b[0;32min\u001b[0m \u001b[0mself\u001b[0m\u001b[0;34m.\u001b[0m\u001b[0m_event_hooks\u001b[0m\u001b[0;34m[\u001b[0m\u001b[0;34m\"response\"\u001b[0m\u001b[0;34m]\u001b[0m\u001b[0;34m:\u001b[0m\u001b[0;34m\u001b[0m\u001b[0;34m\u001b[0m\u001b[0m\n",
            "\u001b[0;32m/usr/local/lib/python3.11/dist-packages/httpx/_client.py\u001b[0m in \u001b[0;36m_send_single_request\u001b[0;34m(self, request)\u001b[0m\n\u001b[1;32m   1012\u001b[0m \u001b[0;34m\u001b[0m\u001b[0m\n\u001b[1;32m   1013\u001b[0m         \u001b[0;32mwith\u001b[0m \u001b[0mrequest_context\u001b[0m\u001b[0;34m(\u001b[0m\u001b[0mrequest\u001b[0m\u001b[0;34m=\u001b[0m\u001b[0mrequest\u001b[0m\u001b[0;34m)\u001b[0m\u001b[0;34m:\u001b[0m\u001b[0;34m\u001b[0m\u001b[0;34m\u001b[0m\u001b[0m\n\u001b[0;32m-> 1014\u001b[0;31m             \u001b[0mresponse\u001b[0m \u001b[0;34m=\u001b[0m \u001b[0mtransport\u001b[0m\u001b[0;34m.\u001b[0m\u001b[0mhandle_request\u001b[0m\u001b[0;34m(\u001b[0m\u001b[0mrequest\u001b[0m\u001b[0;34m)\u001b[0m\u001b[0;34m\u001b[0m\u001b[0;34m\u001b[0m\u001b[0m\n\u001b[0m\u001b[1;32m   1015\u001b[0m \u001b[0;34m\u001b[0m\u001b[0m\n\u001b[1;32m   1016\u001b[0m         \u001b[0;32massert\u001b[0m \u001b[0misinstance\u001b[0m\u001b[0;34m(\u001b[0m\u001b[0mresponse\u001b[0m\u001b[0;34m.\u001b[0m\u001b[0mstream\u001b[0m\u001b[0;34m,\u001b[0m \u001b[0mSyncByteStream\u001b[0m\u001b[0;34m)\u001b[0m\u001b[0;34m\u001b[0m\u001b[0;34m\u001b[0m\u001b[0m\n",
            "\u001b[0;32m/usr/local/lib/python3.11/dist-packages/httpx/_transports/default.py\u001b[0m in \u001b[0;36mhandle_request\u001b[0;34m(self, request)\u001b[0m\n\u001b[1;32m    248\u001b[0m         )\n\u001b[1;32m    249\u001b[0m         \u001b[0;32mwith\u001b[0m \u001b[0mmap_httpcore_exceptions\u001b[0m\u001b[0;34m(\u001b[0m\u001b[0;34m)\u001b[0m\u001b[0;34m:\u001b[0m\u001b[0;34m\u001b[0m\u001b[0;34m\u001b[0m\u001b[0m\n\u001b[0;32m--> 250\u001b[0;31m             \u001b[0mresp\u001b[0m \u001b[0;34m=\u001b[0m \u001b[0mself\u001b[0m\u001b[0;34m.\u001b[0m\u001b[0m_pool\u001b[0m\u001b[0;34m.\u001b[0m\u001b[0mhandle_request\u001b[0m\u001b[0;34m(\u001b[0m\u001b[0mreq\u001b[0m\u001b[0;34m)\u001b[0m\u001b[0;34m\u001b[0m\u001b[0;34m\u001b[0m\u001b[0m\n\u001b[0m\u001b[1;32m    251\u001b[0m \u001b[0;34m\u001b[0m\u001b[0m\n\u001b[1;32m    252\u001b[0m         \u001b[0;32massert\u001b[0m \u001b[0misinstance\u001b[0m\u001b[0;34m(\u001b[0m\u001b[0mresp\u001b[0m\u001b[0;34m.\u001b[0m\u001b[0mstream\u001b[0m\u001b[0;34m,\u001b[0m \u001b[0mtyping\u001b[0m\u001b[0;34m.\u001b[0m\u001b[0mIterable\u001b[0m\u001b[0;34m)\u001b[0m\u001b[0;34m\u001b[0m\u001b[0;34m\u001b[0m\u001b[0m\n",
            "\u001b[0;32m/usr/local/lib/python3.11/dist-packages/httpcore/_sync/connection_pool.py\u001b[0m in \u001b[0;36mhandle_request\u001b[0;34m(self, request)\u001b[0m\n\u001b[1;32m    254\u001b[0m \u001b[0;34m\u001b[0m\u001b[0m\n\u001b[1;32m    255\u001b[0m             \u001b[0mself\u001b[0m\u001b[0;34m.\u001b[0m\u001b[0m_close_connections\u001b[0m\u001b[0;34m(\u001b[0m\u001b[0mclosing\u001b[0m\u001b[0;34m)\u001b[0m\u001b[0;34m\u001b[0m\u001b[0;34m\u001b[0m\u001b[0m\n\u001b[0;32m--> 256\u001b[0;31m             \u001b[0;32mraise\u001b[0m \u001b[0mexc\u001b[0m \u001b[0;32mfrom\u001b[0m \u001b[0;32mNone\u001b[0m\u001b[0;34m\u001b[0m\u001b[0;34m\u001b[0m\u001b[0m\n\u001b[0m\u001b[1;32m    257\u001b[0m \u001b[0;34m\u001b[0m\u001b[0m\n\u001b[1;32m    258\u001b[0m         \u001b[0;31m# Return the response. Note that in this case we still have to manage\u001b[0m\u001b[0;34m\u001b[0m\u001b[0;34m\u001b[0m\u001b[0m\n",
            "\u001b[0;32m/usr/local/lib/python3.11/dist-packages/httpcore/_sync/connection_pool.py\u001b[0m in \u001b[0;36mhandle_request\u001b[0;34m(self, request)\u001b[0m\n\u001b[1;32m    234\u001b[0m                 \u001b[0;32mtry\u001b[0m\u001b[0;34m:\u001b[0m\u001b[0;34m\u001b[0m\u001b[0;34m\u001b[0m\u001b[0m\n\u001b[1;32m    235\u001b[0m                     \u001b[0;31m# Send the request on the assigned connection.\u001b[0m\u001b[0;34m\u001b[0m\u001b[0;34m\u001b[0m\u001b[0m\n\u001b[0;32m--> 236\u001b[0;31m                     response = connection.handle_request(\n\u001b[0m\u001b[1;32m    237\u001b[0m                         \u001b[0mpool_request\u001b[0m\u001b[0;34m.\u001b[0m\u001b[0mrequest\u001b[0m\u001b[0;34m\u001b[0m\u001b[0;34m\u001b[0m\u001b[0m\n\u001b[1;32m    238\u001b[0m                     )\n",
            "\u001b[0;32m/usr/local/lib/python3.11/dist-packages/httpcore/_sync/connection.py\u001b[0m in \u001b[0;36mhandle_request\u001b[0;34m(self, request)\u001b[0m\n\u001b[1;32m    101\u001b[0m             \u001b[0;32mraise\u001b[0m \u001b[0mexc\u001b[0m\u001b[0;34m\u001b[0m\u001b[0;34m\u001b[0m\u001b[0m\n\u001b[1;32m    102\u001b[0m \u001b[0;34m\u001b[0m\u001b[0m\n\u001b[0;32m--> 103\u001b[0;31m         \u001b[0;32mreturn\u001b[0m \u001b[0mself\u001b[0m\u001b[0;34m.\u001b[0m\u001b[0m_connection\u001b[0m\u001b[0;34m.\u001b[0m\u001b[0mhandle_request\u001b[0m\u001b[0;34m(\u001b[0m\u001b[0mrequest\u001b[0m\u001b[0;34m)\u001b[0m\u001b[0;34m\u001b[0m\u001b[0;34m\u001b[0m\u001b[0m\n\u001b[0m\u001b[1;32m    104\u001b[0m \u001b[0;34m\u001b[0m\u001b[0m\n\u001b[1;32m    105\u001b[0m     \u001b[0;32mdef\u001b[0m \u001b[0m_connect\u001b[0m\u001b[0;34m(\u001b[0m\u001b[0mself\u001b[0m\u001b[0;34m,\u001b[0m \u001b[0mrequest\u001b[0m\u001b[0;34m:\u001b[0m \u001b[0mRequest\u001b[0m\u001b[0;34m)\u001b[0m \u001b[0;34m->\u001b[0m \u001b[0mNetworkStream\u001b[0m\u001b[0;34m:\u001b[0m\u001b[0;34m\u001b[0m\u001b[0;34m\u001b[0m\u001b[0m\n",
            "\u001b[0;32m/usr/local/lib/python3.11/dist-packages/httpcore/_sync/http11.py\u001b[0m in \u001b[0;36mhandle_request\u001b[0;34m(self, request)\u001b[0m\n\u001b[1;32m    134\u001b[0m                 \u001b[0;32mwith\u001b[0m \u001b[0mTrace\u001b[0m\u001b[0;34m(\u001b[0m\u001b[0;34m\"response_closed\"\u001b[0m\u001b[0;34m,\u001b[0m \u001b[0mlogger\u001b[0m\u001b[0;34m,\u001b[0m \u001b[0mrequest\u001b[0m\u001b[0;34m)\u001b[0m \u001b[0;32mas\u001b[0m \u001b[0mtrace\u001b[0m\u001b[0;34m:\u001b[0m\u001b[0;34m\u001b[0m\u001b[0;34m\u001b[0m\u001b[0m\n\u001b[1;32m    135\u001b[0m                     \u001b[0mself\u001b[0m\u001b[0;34m.\u001b[0m\u001b[0m_response_closed\u001b[0m\u001b[0;34m(\u001b[0m\u001b[0;34m)\u001b[0m\u001b[0;34m\u001b[0m\u001b[0;34m\u001b[0m\u001b[0m\n\u001b[0;32m--> 136\u001b[0;31m             \u001b[0;32mraise\u001b[0m \u001b[0mexc\u001b[0m\u001b[0;34m\u001b[0m\u001b[0;34m\u001b[0m\u001b[0m\n\u001b[0m\u001b[1;32m    137\u001b[0m \u001b[0;34m\u001b[0m\u001b[0m\n\u001b[1;32m    138\u001b[0m     \u001b[0;31m# Sending the request...\u001b[0m\u001b[0;34m\u001b[0m\u001b[0;34m\u001b[0m\u001b[0m\n",
            "\u001b[0;32m/usr/local/lib/python3.11/dist-packages/httpcore/_sync/http11.py\u001b[0m in \u001b[0;36mhandle_request\u001b[0;34m(self, request)\u001b[0m\n\u001b[1;32m    104\u001b[0m                     \u001b[0mheaders\u001b[0m\u001b[0;34m,\u001b[0m\u001b[0;34m\u001b[0m\u001b[0;34m\u001b[0m\u001b[0m\n\u001b[1;32m    105\u001b[0m                     \u001b[0mtrailing_data\u001b[0m\u001b[0;34m,\u001b[0m\u001b[0;34m\u001b[0m\u001b[0;34m\u001b[0m\u001b[0m\n\u001b[0;32m--> 106\u001b[0;31m                 ) = self._receive_response_headers(**kwargs)\n\u001b[0m\u001b[1;32m    107\u001b[0m                 trace.return_value = (\n\u001b[1;32m    108\u001b[0m                     \u001b[0mhttp_version\u001b[0m\u001b[0;34m,\u001b[0m\u001b[0;34m\u001b[0m\u001b[0;34m\u001b[0m\u001b[0m\n",
            "\u001b[0;32m/usr/local/lib/python3.11/dist-packages/httpcore/_sync/http11.py\u001b[0m in \u001b[0;36m_receive_response_headers\u001b[0;34m(self, request)\u001b[0m\n\u001b[1;32m    175\u001b[0m \u001b[0;34m\u001b[0m\u001b[0m\n\u001b[1;32m    176\u001b[0m         \u001b[0;32mwhile\u001b[0m \u001b[0;32mTrue\u001b[0m\u001b[0;34m:\u001b[0m\u001b[0;34m\u001b[0m\u001b[0;34m\u001b[0m\u001b[0m\n\u001b[0;32m--> 177\u001b[0;31m             \u001b[0mevent\u001b[0m \u001b[0;34m=\u001b[0m \u001b[0mself\u001b[0m\u001b[0;34m.\u001b[0m\u001b[0m_receive_event\u001b[0m\u001b[0;34m(\u001b[0m\u001b[0mtimeout\u001b[0m\u001b[0;34m=\u001b[0m\u001b[0mtimeout\u001b[0m\u001b[0;34m)\u001b[0m\u001b[0;34m\u001b[0m\u001b[0;34m\u001b[0m\u001b[0m\n\u001b[0m\u001b[1;32m    178\u001b[0m             \u001b[0;32mif\u001b[0m \u001b[0misinstance\u001b[0m\u001b[0;34m(\u001b[0m\u001b[0mevent\u001b[0m\u001b[0;34m,\u001b[0m \u001b[0mh11\u001b[0m\u001b[0;34m.\u001b[0m\u001b[0mResponse\u001b[0m\u001b[0;34m)\u001b[0m\u001b[0;34m:\u001b[0m\u001b[0;34m\u001b[0m\u001b[0;34m\u001b[0m\u001b[0m\n\u001b[1;32m    179\u001b[0m                 \u001b[0;32mbreak\u001b[0m\u001b[0;34m\u001b[0m\u001b[0;34m\u001b[0m\u001b[0m\n",
            "\u001b[0;32m/usr/local/lib/python3.11/dist-packages/httpcore/_sync/http11.py\u001b[0m in \u001b[0;36m_receive_event\u001b[0;34m(self, timeout)\u001b[0m\n\u001b[1;32m    215\u001b[0m \u001b[0;34m\u001b[0m\u001b[0m\n\u001b[1;32m    216\u001b[0m             \u001b[0;32mif\u001b[0m \u001b[0mevent\u001b[0m \u001b[0;32mis\u001b[0m \u001b[0mh11\u001b[0m\u001b[0;34m.\u001b[0m\u001b[0mNEED_DATA\u001b[0m\u001b[0;34m:\u001b[0m\u001b[0;34m\u001b[0m\u001b[0;34m\u001b[0m\u001b[0m\n\u001b[0;32m--> 217\u001b[0;31m                 data = self._network_stream.read(\n\u001b[0m\u001b[1;32m    218\u001b[0m                     \u001b[0mself\u001b[0m\u001b[0;34m.\u001b[0m\u001b[0mREAD_NUM_BYTES\u001b[0m\u001b[0;34m,\u001b[0m \u001b[0mtimeout\u001b[0m\u001b[0;34m=\u001b[0m\u001b[0mtimeout\u001b[0m\u001b[0;34m\u001b[0m\u001b[0;34m\u001b[0m\u001b[0m\n\u001b[1;32m    219\u001b[0m                 )\n",
            "\u001b[0;32m/usr/local/lib/python3.11/dist-packages/httpcore/_backends/sync.py\u001b[0m in \u001b[0;36mread\u001b[0;34m(self, max_bytes, timeout)\u001b[0m\n\u001b[1;32m    126\u001b[0m         \u001b[0;32mwith\u001b[0m \u001b[0mmap_exceptions\u001b[0m\u001b[0;34m(\u001b[0m\u001b[0mexc_map\u001b[0m\u001b[0;34m)\u001b[0m\u001b[0;34m:\u001b[0m\u001b[0;34m\u001b[0m\u001b[0;34m\u001b[0m\u001b[0m\n\u001b[1;32m    127\u001b[0m             \u001b[0mself\u001b[0m\u001b[0;34m.\u001b[0m\u001b[0m_sock\u001b[0m\u001b[0;34m.\u001b[0m\u001b[0msettimeout\u001b[0m\u001b[0;34m(\u001b[0m\u001b[0mtimeout\u001b[0m\u001b[0;34m)\u001b[0m\u001b[0;34m\u001b[0m\u001b[0;34m\u001b[0m\u001b[0m\n\u001b[0;32m--> 128\u001b[0;31m             \u001b[0;32mreturn\u001b[0m \u001b[0mself\u001b[0m\u001b[0;34m.\u001b[0m\u001b[0m_sock\u001b[0m\u001b[0;34m.\u001b[0m\u001b[0mrecv\u001b[0m\u001b[0;34m(\u001b[0m\u001b[0mmax_bytes\u001b[0m\u001b[0;34m)\u001b[0m\u001b[0;34m\u001b[0m\u001b[0;34m\u001b[0m\u001b[0m\n\u001b[0m\u001b[1;32m    129\u001b[0m \u001b[0;34m\u001b[0m\u001b[0m\n\u001b[1;32m    130\u001b[0m     \u001b[0;32mdef\u001b[0m \u001b[0mwrite\u001b[0m\u001b[0;34m(\u001b[0m\u001b[0mself\u001b[0m\u001b[0;34m,\u001b[0m \u001b[0mbuffer\u001b[0m\u001b[0;34m:\u001b[0m \u001b[0mbytes\u001b[0m\u001b[0;34m,\u001b[0m \u001b[0mtimeout\u001b[0m\u001b[0;34m:\u001b[0m \u001b[0mfloat\u001b[0m \u001b[0;34m|\u001b[0m \u001b[0;32mNone\u001b[0m \u001b[0;34m=\u001b[0m \u001b[0;32mNone\u001b[0m\u001b[0;34m)\u001b[0m \u001b[0;34m->\u001b[0m \u001b[0;32mNone\u001b[0m\u001b[0;34m:\u001b[0m\u001b[0;34m\u001b[0m\u001b[0;34m\u001b[0m\u001b[0m\n",
            "\u001b[0;32m/usr/lib/python3.11/ssl.py\u001b[0m in \u001b[0;36mrecv\u001b[0;34m(self, buflen, flags)\u001b[0m\n\u001b[1;32m   1293\u001b[0m                     \u001b[0;34m\"non-zero flags not allowed in calls to recv() on %s\"\u001b[0m \u001b[0;34m%\u001b[0m\u001b[0;34m\u001b[0m\u001b[0;34m\u001b[0m\u001b[0m\n\u001b[1;32m   1294\u001b[0m                     self.__class__)\n\u001b[0;32m-> 1295\u001b[0;31m             \u001b[0;32mreturn\u001b[0m \u001b[0mself\u001b[0m\u001b[0;34m.\u001b[0m\u001b[0mread\u001b[0m\u001b[0;34m(\u001b[0m\u001b[0mbuflen\u001b[0m\u001b[0;34m)\u001b[0m\u001b[0;34m\u001b[0m\u001b[0;34m\u001b[0m\u001b[0m\n\u001b[0m\u001b[1;32m   1296\u001b[0m         \u001b[0;32melse\u001b[0m\u001b[0;34m:\u001b[0m\u001b[0;34m\u001b[0m\u001b[0;34m\u001b[0m\u001b[0m\n\u001b[1;32m   1297\u001b[0m             \u001b[0;32mreturn\u001b[0m \u001b[0msuper\u001b[0m\u001b[0;34m(\u001b[0m\u001b[0;34m)\u001b[0m\u001b[0;34m.\u001b[0m\u001b[0mrecv\u001b[0m\u001b[0;34m(\u001b[0m\u001b[0mbuflen\u001b[0m\u001b[0;34m,\u001b[0m \u001b[0mflags\u001b[0m\u001b[0;34m)\u001b[0m\u001b[0;34m\u001b[0m\u001b[0;34m\u001b[0m\u001b[0m\n",
            "\u001b[0;32m/usr/lib/python3.11/ssl.py\u001b[0m in \u001b[0;36mread\u001b[0;34m(self, len, buffer)\u001b[0m\n\u001b[1;32m   1166\u001b[0m                 \u001b[0;32mreturn\u001b[0m \u001b[0mself\u001b[0m\u001b[0;34m.\u001b[0m\u001b[0m_sslobj\u001b[0m\u001b[0;34m.\u001b[0m\u001b[0mread\u001b[0m\u001b[0;34m(\u001b[0m\u001b[0mlen\u001b[0m\u001b[0;34m,\u001b[0m \u001b[0mbuffer\u001b[0m\u001b[0;34m)\u001b[0m\u001b[0;34m\u001b[0m\u001b[0;34m\u001b[0m\u001b[0m\n\u001b[1;32m   1167\u001b[0m             \u001b[0;32melse\u001b[0m\u001b[0;34m:\u001b[0m\u001b[0;34m\u001b[0m\u001b[0;34m\u001b[0m\u001b[0m\n\u001b[0;32m-> 1168\u001b[0;31m                 \u001b[0;32mreturn\u001b[0m \u001b[0mself\u001b[0m\u001b[0;34m.\u001b[0m\u001b[0m_sslobj\u001b[0m\u001b[0;34m.\u001b[0m\u001b[0mread\u001b[0m\u001b[0;34m(\u001b[0m\u001b[0mlen\u001b[0m\u001b[0;34m)\u001b[0m\u001b[0;34m\u001b[0m\u001b[0;34m\u001b[0m\u001b[0m\n\u001b[0m\u001b[1;32m   1169\u001b[0m         \u001b[0;32mexcept\u001b[0m \u001b[0mSSLError\u001b[0m \u001b[0;32mas\u001b[0m \u001b[0mx\u001b[0m\u001b[0;34m:\u001b[0m\u001b[0;34m\u001b[0m\u001b[0;34m\u001b[0m\u001b[0m\n\u001b[1;32m   1170\u001b[0m             \u001b[0;32mif\u001b[0m \u001b[0mx\u001b[0m\u001b[0;34m.\u001b[0m\u001b[0margs\u001b[0m\u001b[0;34m[\u001b[0m\u001b[0;36m0\u001b[0m\u001b[0;34m]\u001b[0m \u001b[0;34m==\u001b[0m \u001b[0mSSL_ERROR_EOF\u001b[0m \u001b[0;32mand\u001b[0m \u001b[0mself\u001b[0m\u001b[0;34m.\u001b[0m\u001b[0msuppress_ragged_eofs\u001b[0m\u001b[0;34m:\u001b[0m\u001b[0;34m\u001b[0m\u001b[0;34m\u001b[0m\u001b[0m\n",
            "\u001b[0;31mKeyboardInterrupt\u001b[0m: "
          ]
        }
      ]
    },
    {
      "cell_type": "code",
      "source": [
        "!pip install --quiet chromadb llama-index-vector-stores-chroma"
      ],
      "metadata": {
        "id": "JOBnoJb3C8-m"
      },
      "execution_count": 94,
      "outputs": []
    },
    {
      "cell_type": "code",
      "source": [
        "from llama_index.core import StorageContext, VectorStoreIndex\n",
        "import chromadb\n",
        "from llama_index.vector_stores.chroma import ChromaVectorStore\n",
        "\n",
        "chroma_client = chromadb.PersistentClient(path=\"./chroma_db\")\n",
        "chroma_collection = chroma_client.get_or_create_collection(name='airbnb')\n",
        "\n",
        "# Create ChromaVectorStore\n",
        "vector_store = ChromaVectorStore(client =chroma_client, chroma_collection=chroma_collection)"
      ],
      "metadata": {
        "id": "Y-vrApYWAG-U"
      },
      "execution_count": 95,
      "outputs": []
    },
    {
      "cell_type": "code",
      "source": [
        "from llama_index.core import StorageContext, VectorStoreIndex\n",
        "\n",
        "# Create a storage context\n",
        "storage_context = StorageContext.from_defaults(vector_store=vector_store)\n",
        "\n",
        "# Create the index with the storage context\n",
        "index = VectorStoreIndex(sentence_nodes, storage_context=storage_context)\n",
        "\n",
        "# Optionally, persist the index\n",
        "index.storage_context.persist()"
      ],
      "metadata": {
        "id": "jCcc3RHSAKjc"
      },
      "execution_count": 96,
      "outputs": []
    },
    {
      "cell_type": "code",
      "source": [
        "from llama_index.core.tools import QueryEngineTool, ToolMetadata\n",
        "\n",
        "index_retreiver = index.as_query_engine(top_similarity_k=5)\n",
        "\n",
        "index_tool = QueryEngineTool(query_engine = index_retreiver, metadata= ToolMetadata(\n",
        "        name=\"airbnb_knowledge_base\",\n",
        "        description=(\n",
        "            \"Provides information about Airbnb listings and reviews. \"\n",
        "            \"Use a detailed plain text question as input to the tool.\"\n",
        "        ),\n",
        "    ),)"
      ],
      "metadata": {
        "id": "S1MANuU3ANMd"
      },
      "execution_count": 121,
      "outputs": []
    },
    {
      "cell_type": "code",
      "source": [
        "from typing import Dict, List, Any, Optional\n",
        "from llama_index.core.tools import BaseTool\n",
        "from llama_index.core.llms import ChatMessage\n",
        "from llama_index.core.llms.llm import ToolSelection, LLM\n",
        "from llama_index.core.workflow import (\n",
        "    Workflow,\n",
        "    Event,\n",
        "    StartEvent,\n",
        "    StopEvent,\n",
        "    step,\n",
        ")\n",
        "from llama_index.core.base.response.schema import Response\n",
        "from llama_index.core.tools import FunctionTool\n",
        "from llama_index.core.workflow import Context\n",
        "\n",
        "\n",
        "class InputEvent(Event):\n",
        "    \"\"\"Input event.\"\"\"\n",
        "\n",
        "class GatherToolsEvent(Event):\n",
        "    \"\"\"Gather Tools Event\"\"\"\n",
        "\n",
        "    tool_calls: Any\n",
        "\n",
        "class ToolCallEvent(Event):\n",
        "    \"\"\"Tool Call event\"\"\"\n",
        "\n",
        "    tool_call: ToolSelection\n",
        "\n",
        "class ToolCallEventResult(Event):\n",
        "    \"\"\"Tool call event result.\"\"\"\n",
        "\n",
        "    msg: ChatMessage\n",
        "class RouterOutputAgentWorkflow(Workflow):\n",
        "    \"\"\"Custom router output agent workflow.\"\"\"\n",
        "\n",
        "    def __init__(self,\n",
        "        tools: List[BaseTool],\n",
        "        timeout: Optional[float] = 10.0,\n",
        "        disable_validation: bool = False,\n",
        "        verbose: bool = False,\n",
        "        llm: Optional[LLM] = None,\n",
        "        chat_history: Optional[List[ChatMessage]] = None,\n",
        "    ):\n",
        "        \"\"\"Constructor.\"\"\"\n",
        "\n",
        "        super().__init__(timeout=timeout, disable_validation=disable_validation, verbose=verbose)\n",
        "\n",
        "        self.tools: List[BaseTool] = tools\n",
        "        self.tools_dict: Optional[Dict[str, BaseTool]] = {tool.metadata.name: tool for tool in self.tools}\n",
        "        self.llm: LLM = llm or OpenAI(temperature=0, model=\"gpt-3.5-turbo\")\n",
        "        self.chat_history: List[ChatMessage] = chat_history or []\n",
        "\n",
        "\n",
        "    def reset(self) -> None:\n",
        "        \"\"\"Resets Chat History\"\"\"\n",
        "\n",
        "        self.chat_history = []\n",
        "\n",
        "    @step()\n",
        "    async def prepare_chat(self, ev: StartEvent) -> InputEvent:\n",
        "        message = ev.get(\"message\")\n",
        "        if message is None:\n",
        "            raise ValueError(\"'message' field is required.\")\n",
        "\n",
        "        # add msg to chat history\n",
        "        chat_history = self.chat_history\n",
        "        chat_history.append(ChatMessage(role=\"user\", content=message))\n",
        "        return InputEvent()\n",
        "\n",
        "    @step()\n",
        "    async def chat(self, ev: InputEvent) -> GatherToolsEvent | StopEvent:\n",
        "        \"\"\"Appends msg to chat history, then gets tool calls.\"\"\"\n",
        "\n",
        "        # Put msg into LLM with tools included\n",
        "        chat_res = await self.llm.achat_with_tools(\n",
        "            self.tools,\n",
        "            chat_history=self.chat_history,\n",
        "            verbose=self._verbose,\n",
        "            allow_parallel_tool_calls=True\n",
        "        )\n",
        "        tool_calls = self.llm.get_tool_calls_from_response(chat_res, error_on_no_tool_call=False)\n",
        "\n",
        "        ai_message = chat_res.message\n",
        "        self.chat_history.append(ai_message)\n",
        "        if self._verbose:\n",
        "            print(f\"Chat message: {ai_message.content}\")\n",
        "\n",
        "        # no tool calls, return chat message.\n",
        "        if not tool_calls:\n",
        "            return StopEvent(result=ai_message.content)\n",
        "\n",
        "        return GatherToolsEvent(tool_calls=tool_calls)\n",
        "\n",
        "    @step(pass_context=True)\n",
        "    async def dispatch_calls(self, ctx: Context, ev: GatherToolsEvent) -> ToolCallEvent:\n",
        "        \"\"\"Dispatches calls.\"\"\"\n",
        "\n",
        "        tool_calls = ev.tool_calls\n",
        "        await ctx.set(\"num_tool_calls\", len(tool_calls))\n",
        "\n",
        "        # trigger tool call events\n",
        "        for tool_call in tool_calls:\n",
        "            ctx.send_event(ToolCallEvent(tool_call=tool_call))\n",
        "\n",
        "        return None\n",
        "\n",
        "    @step()\n",
        "    async def call_tool(self, ev: ToolCallEvent) -> ToolCallEventResult:\n",
        "        \"\"\"Calls tool.\"\"\"\n",
        "\n",
        "        tool_call = ev.tool_call\n",
        "\n",
        "        # get tool ID and function call\n",
        "        id_ = tool_call.tool_id\n",
        "\n",
        "        if self._verbose:\n",
        "            print(f\"Calling function {tool_call.tool_name} with msg {tool_call.tool_kwargs}\")\n",
        "\n",
        "        # call function and put result into a chat message\n",
        "        tool = self.tools_dict[tool_call.tool_name]\n",
        "        output = await tool.acall(**tool_call.tool_kwargs)\n",
        "        msg = ChatMessage(\n",
        "            name=tool_call.tool_name,\n",
        "            content=str(output),\n",
        "            role=\"tool\",\n",
        "            additional_kwargs={\n",
        "                \"tool_call_id\": id_,\n",
        "                \"name\": tool_call.tool_name\n",
        "            }\n",
        "        )\n",
        "\n",
        "        return ToolCallEventResult(msg=msg)\n",
        "\n",
        "    @step(pass_context=True)\n",
        "    async def gather(self, ctx: Context, ev: ToolCallEventResult) -> StopEvent | None:\n",
        "        \"\"\"Gathers tool calls.\"\"\"\n",
        "        # wait for all tool call events to finish.\n",
        "        tool_events = ctx.collect_events(ev, [ToolCallEventResult] * await ctx.get(\"num_tool_calls\"))\n",
        "        if not tool_events:\n",
        "            return None\n",
        "\n",
        "        for tool_event in tool_events:\n",
        "            # append tool call chat messages to history\n",
        "            self.chat_history.append(tool_event.msg)\n",
        "\n",
        "        # # after all tool calls finish, pass input event back, restart agent loop\n",
        "        return InputEvent()"
      ],
      "metadata": {
        "id": "JUJ1LVkEFOpm"
      },
      "execution_count": 112,
      "outputs": []
    },
    {
      "cell_type": "code",
      "source": [
        "wf = RouterOutputAgentWorkflow(tools=[sql_tool, index_tool], verbose=True, timeout=180)"
      ],
      "metadata": {
        "id": "3LknS-dTHdOC"
      },
      "execution_count": 131,
      "outputs": []
    },
    {
      "cell_type": "code",
      "source": [
        "result = await wf.run(message=\"Which properties offer the best value for monthly stays, comparing monthly_price to regular price and including cleaning fees?\")"
      ],
      "metadata": {
        "colab": {
          "base_uri": "https://localhost:8080/"
        },
        "id": "RDvAf5RXHoa6",
        "outputId": "400bd077-045b-450d-c639-7e8bc65e05d7"
      },
      "execution_count": 136,
      "outputs": [
        {
          "output_type": "stream",
          "name": "stdout",
          "text": [
            "Running step prepare_chat\n",
            "Step prepare_chat produced event InputEvent\n",
            "Running step chat\n",
            "Chat message: None\n",
            "Step chat produced event GatherToolsEvent\n",
            "Running step dispatch_calls\n",
            "Step dispatch_calls produced no event\n",
            "Running step call_tool\n",
            "Calling function airbnb_knowledge_base with msg {'input': 'Which properties offer the best value for monthly stays, comparing monthly_price to regular price and including cleaning fees?'}\n",
            "Step call_tool produced event ToolCallEventResult\n",
            "Running step gather\n",
            "Step gather produced event InputEvent\n",
            "Running step chat\n",
            "Chat message: The context information does not provide sufficient details about monthly prices or cleaning fees for the properties. Therefore, it's not possible to determine which property offers the best value for monthly stays. If you have specific criteria or preferences, please let me know so I can assist you further.\n",
            "Step chat produced event StopEvent\n"
          ]
        }
      ]
    }
  ]
}